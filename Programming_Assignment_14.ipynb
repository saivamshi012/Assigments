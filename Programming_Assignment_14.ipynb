{
  "nbformat": 4,
  "nbformat_minor": 0,
  "metadata": {
    "colab": {
      "name": "Programming Assignment_14.ipynb",
      "provenance": [],
      "collapsed_sections": []
    },
    "kernelspec": {
      "name": "python3",
      "display_name": "Python 3"
    }
  },
  "cells": [
    {
      "cell_type": "code",
      "source": [
        "Question 1:\n",
        "Define a class with a generator which can iterate the numbers, which are divisible by\n",
        "7, between a given range 0 and n.\n",
        "\n"
      ],
      "metadata": {
        "id": "QS9PVfD03DHO"
      },
      "execution_count": null,
      "outputs": []
    },
    {
      "cell_type": "code",
      "source": [
        "n = int(input())\n",
        "divBy7 = [i for i in range(0, n) if (i % 7 == 0)]\n",
        "print(divBy7)"
      ],
      "metadata": {
        "colab": {
          "base_uri": "https://localhost:8080/"
        },
        "id": "TAcdEEMD3OY1",
        "outputId": "b0fc3c82-59aa-423e-d753-1f828c1fc9d5"
      },
      "execution_count": 1,
      "outputs": [
        {
          "output_type": "stream",
          "name": "stdout",
          "text": [
            "57\n",
            "[0, 7, 14, 21, 28, 35, 42, 49, 56]\n"
          ]
        }
      ]
    },
    {
      "cell_type": "code",
      "source": [
        "Question 2:\n",
        "Write a program to compute the frequency of the words from the input. The output\n",
        "should output after sorting the key alphanumerically.\n",
        "Suppose the following input is supplied to the program:\n",
        "New to Python or choosing between Python 2 and Python 3? Read Python 2 or\n",
        "Python 3.\n",
        "Then, the output should be:\n",
        "2:2\n",
        "3.:1\n",
        "3?:1\n",
        "New:1\n",
        "Python:5\n",
        "Read:1\n",
        "and:1\n",
        "between:1\n",
        "choosing:1\n",
        "or:2\n",
        "to:1\n",
        "\n"
      ],
      "metadata": {
        "id": "R0WuGcd43H2G"
      },
      "execution_count": null,
      "outputs": []
    },
    {
      "cell_type": "code",
      "source": [
        "def frequency(input):\n",
        "    freq = {}\n",
        "\n",
        "    for word in input.split():\n",
        "        freq[word] = freq.get(word, 0) + 1\n",
        "\n",
        "    words = list(freq.keys())\n",
        "    words.sort()\n",
        "\n",
        "    for w in words:\n",
        "        print(f'{w}:{freq[w]}')\n",
        "        \n",
        "frequency('New to Python or choosing between Python 2 and Python 3? Read Python 2 or Python 3.')"
      ],
      "metadata": {
        "colab": {
          "base_uri": "https://localhost:8080/"
        },
        "id": "rvCrVlI93-TD",
        "outputId": "ce01e679-216b-4970-f507-be323863e39d"
      },
      "execution_count": 9,
      "outputs": [
        {
          "output_type": "stream",
          "name": "stdout",
          "text": [
            "2:2\n",
            "3.:1\n",
            "3?:1\n",
            "New:1\n",
            "Python:5\n",
            "Read:1\n",
            "and:1\n",
            "between:1\n",
            "choosing:1\n",
            "or:2\n",
            "to:1\n"
          ]
        }
      ]
    },
    {
      "cell_type": "code",
      "source": [
        "Question 3:\n",
        "\n",
        "Define a class Person and its two child classes: Male and Female. All classes have a\n",
        "method ;\"getGender\" which can print \"Male\" for Male class and \"Female\" for Female\n",
        "class.\n",
        "\n"
      ],
      "metadata": {
        "id": "wwap7sEh3JjC"
      },
      "execution_count": null,
      "outputs": []
    },
    {
      "cell_type": "code",
      "source": [
        ""
      ],
      "metadata": {
        "id": "9PRP_EyB5TX2"
      },
      "execution_count": null,
      "outputs": []
    },
    {
      "cell_type": "code",
      "source": [
        "Question 4:\n",
        "Please write a program to generate all sentences where subject is in [\"I\", \"You\"] and\n",
        "verb is in [\"Play\", \"Love\"] and the object is in [\"Hockey\",\"Football\"].\n",
        "\n"
      ],
      "metadata": {
        "id": "EgkEmlRb3KuH"
      },
      "execution_count": null,
      "outputs": []
    },
    {
      "cell_type": "code",
      "source": [
        "subjects=[\"I\", \"You\"]\n",
        "verbs=[\"Play\", \"Love\"]\n",
        "objects=[\"Hockey\",\"Football\"]\n",
        "\n",
        "res = [[i, j, k] for i in subjects  \n",
        "                 for j in verbs \n",
        "                 for k in objects] \n",
        "for x in res:\n",
        "    print(\" \".join(x))"
      ],
      "metadata": {
        "colab": {
          "base_uri": "https://localhost:8080/"
        },
        "id": "KJBUKfOv6pUd",
        "outputId": "04870caa-2e90-4069-9fe5-7a6600fc2c41"
      },
      "execution_count": 10,
      "outputs": [
        {
          "output_type": "stream",
          "name": "stdout",
          "text": [
            "I Play Hockey\n",
            "I Play Football\n",
            "I Love Hockey\n",
            "I Love Football\n",
            "You Play Hockey\n",
            "You Play Football\n",
            "You Love Hockey\n",
            "You Love Football\n"
          ]
        }
      ]
    },
    {
      "cell_type": "code",
      "source": [
        "Question 5:Please write a program to compress and decompress the string \"hello world!helloworld!hello world!hello world!\"."
      ],
      "metadata": {
        "id": "FzowOle83MAJ"
      },
      "execution_count": null,
      "outputs": []
    },
    {
      "cell_type": "code",
      "source": [
        "import zlib\n",
        "s = b'hello world!hello world!hello world!hello world!'\n",
        "t = zlib.compress(s)\n",
        "print(\"compress:\",t)\n",
        "print(\"decompress:\",zlib.decompress(t))"
      ],
      "metadata": {
        "colab": {
          "base_uri": "https://localhost:8080/"
        },
        "id": "ppK9rNue6rDA",
        "outputId": "d08b7e62-6c08-4820-b61a-dba9d3781fa9"
      },
      "execution_count": 24,
      "outputs": [
        {
          "output_type": "stream",
          "name": "stdout",
          "text": [
            "compress: b'x\\x9c\\xcbH\\xcd\\xc9\\xc9W(\\xcf/\\xcaIQ\\xcc \\x82\\r\\x00\\xbd[\\x11\\xf5'\n",
            "decompress: b'hello world!hello world!hello world!hello world!'\n"
          ]
        }
      ]
    },
    {
      "cell_type": "code",
      "source": [
        "Question 6:\n",
        "Please write a binary search function which searches an item in a sorted list. The\n",
        "function should return the index of element to be searched in the list."
      ],
      "metadata": {
        "id": "FRRL6Mle3NXh"
      },
      "execution_count": null,
      "outputs": []
    },
    {
      "cell_type": "code",
      "source": [
        "idx = 0\n",
        "def bs(num,num_list):\n",
        "    global idx\n",
        "    if (len(num_list) == 1):\n",
        "        if num_list[0] == num:\n",
        "            return idx\n",
        "        else:\n",
        "            return \"No exit in the list\"\n",
        "    elif num in num_list[:len(num_list)//2]:\n",
        "        return bs(num,num_list[:len(num_list)//2])\n",
        "    else:\n",
        "        idx += len(num_list)//2\n",
        "    return bs(num,num_list[len(num_list)//2:])\n",
        "\n",
        "print(bs(66,[1,5,8,10,12,13,55,66,73,78,82,85,88,99,100]))"
      ],
      "metadata": {
        "colab": {
          "base_uri": "https://localhost:8080/"
        },
        "id": "KAsg_bTc9RXO",
        "outputId": "9c3323ff-1f92-4a65-c753-10c16fe723fe"
      },
      "execution_count": 27,
      "outputs": [
        {
          "output_type": "stream",
          "name": "stdout",
          "text": [
            "7\n"
          ]
        }
      ]
    }
  ]
}