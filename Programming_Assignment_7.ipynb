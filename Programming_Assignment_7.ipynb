{
  "nbformat": 4,
  "nbformat_minor": 0,
  "metadata": {
    "colab": {
      "name": "Programming Assignment_7.ipynb",
      "provenance": []
    },
    "kernelspec": {
      "name": "python3",
      "display_name": "Python 3"
    },
    "language_info": {
      "name": "python"
    }
  },
  "cells": [
    {
      "cell_type": "code",
      "execution_count": null,
      "metadata": {
        "id": "rjYS-w883AJj"
      },
      "outputs": [],
      "source": [
        "1. Write a Python Program to find sum of array?\n"
      ]
    },
    {
      "cell_type": "code",
      "source": [
        "arr = [8, 2, 3, 4, 5];     \n",
        "sum = 0;    \n",
        "for i in range(0, len(arr)):\n",
        "  sum = sum + arr[i];    \n",
        "print(\"Sum of all the elements of an array: \" + str(sum));    "
      ],
      "metadata": {
        "colab": {
          "base_uri": "https://localhost:8080/"
        },
        "id": "Jsig-jh93KiU",
        "outputId": "34336e3d-e696-4b48-dbf8-cb29cd2e657c"
      },
      "execution_count": 2,
      "outputs": [
        {
          "output_type": "stream",
          "name": "stdout",
          "text": [
            "Sum of all the elements of an array: 22\n"
          ]
        }
      ]
    },
    {
      "cell_type": "code",
      "source": [
        "2. Write a Python Program to find largest element in an array?\n"
      ],
      "metadata": {
        "id": "iRp60ea63FyR"
      },
      "execution_count": null,
      "outputs": []
    },
    {
      "cell_type": "code",
      "source": [
        "arr = [28, 11, 8, 79, 26];     \n",
        "max = arr[0];    \n",
        "        \n",
        "for i in range(0, len(arr)):\n",
        "  if(arr[i] > max):\n",
        "    max = arr[i];    \n",
        "           \n",
        "print(\"Largest element present in  array: \" + str(max));   "
      ],
      "metadata": {
        "colab": {
          "base_uri": "https://localhost:8080/"
        },
        "id": "Y3b_Ad9-33ED",
        "outputId": "ca574625-b59b-4b1c-9b48-f827fdcecbe4"
      },
      "execution_count": 3,
      "outputs": [
        {
          "output_type": "stream",
          "name": "stdout",
          "text": [
            "Largest element present in  array: 79\n"
          ]
        }
      ]
    },
    {
      "cell_type": "code",
      "source": [
        "3. Write a Python Program for array rotation?\n"
      ],
      "metadata": {
        "id": "rItsL_4e3HJh"
      },
      "execution_count": null,
      "outputs": []
    },
    {
      "cell_type": "code",
      "source": [
        "def rotateArray(a,d):\n",
        "    n=len(a)\n",
        "    a[:]=a[d:n]+a[0:d]\n",
        "    return a\n",
        "\n",
        "arr = [1, 2, 3, 4, 5, 6]\n",
        "\n",
        "print(\"Rotated list is\")\n",
        "print(rotateArray(arr,2)) "
      ],
      "metadata": {
        "colab": {
          "base_uri": "https://localhost:8080/"
        },
        "id": "a9yryybt4Y3u",
        "outputId": "58f7911c-749a-427d-b318-544096d8d243"
      },
      "execution_count": 4,
      "outputs": [
        {
          "output_type": "stream",
          "name": "stdout",
          "text": [
            "Rotated list is\n",
            "[3, 4, 5, 6, 1, 2]\n"
          ]
        }
      ]
    },
    {
      "cell_type": "code",
      "source": [
        "4. Write a Python Program to Split the array and add the first part to the end?\n"
      ],
      "metadata": {
        "id": "ZSivcDdZ3InS"
      },
      "execution_count": null,
      "outputs": []
    },
    {
      "cell_type": "code",
      "source": [
        "def SplitArray(arr, n, k):\n",
        "\tfor i in range(0, k):\n",
        "\t\tx = arr[0]\n",
        "\t\tfor j in range(0, n-1):\n",
        "\t\t\tarr[j] = arr[j + 1]\n",
        "\t\t\n",
        "\t\tarr[n-1] = x\t\t\n",
        "arr = [15, 40, 15, 16, 50, 36]\n",
        "n = len(arr)\n",
        "position = 2\n",
        "SplitArray(arr, n, position)\n",
        "for i in range(0, n):\n",
        "\tprint(arr[i], end = ' ')"
      ],
      "metadata": {
        "colab": {
          "base_uri": "https://localhost:8080/"
        },
        "id": "Iap6Bsp25KGn",
        "outputId": "6a824591-9414-4529-e460-959927d10e5f"
      },
      "execution_count": 5,
      "outputs": [
        {
          "output_type": "stream",
          "name": "stdout",
          "text": [
            "15 16 50 36 15 40 "
          ]
        }
      ]
    },
    {
      "cell_type": "code",
      "source": [
        "5. Write a Python Program to check if given array is Monotonic?"
      ],
      "metadata": {
        "id": "FsgMBrBT3Ju1"
      },
      "execution_count": null,
      "outputs": []
    },
    {
      "cell_type": "code",
      "source": [
        "def isMonotonic(A):\n",
        "   return (all(A[i] <= A[i + 1] for i in range(len(A) - 1)) or\n",
        "      all(A[i] >= A[i + 1] for i in range(len(A) - 1)))\n",
        "A = [1,5,3,4,7,8]\n",
        "print(isMonotonic(A))"
      ],
      "metadata": {
        "colab": {
          "base_uri": "https://localhost:8080/"
        },
        "id": "snInQFp_5Ucx",
        "outputId": "80f0eb8e-652b-4ec9-b4f4-8a17e7a23489"
      },
      "execution_count": 6,
      "outputs": [
        {
          "output_type": "stream",
          "name": "stdout",
          "text": [
            "False\n"
          ]
        }
      ]
    }
  ]
}