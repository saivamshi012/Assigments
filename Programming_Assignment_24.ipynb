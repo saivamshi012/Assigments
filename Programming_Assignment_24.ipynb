{
  "nbformat": 4,
  "nbformat_minor": 0,
  "metadata": {
    "colab": {
      "name": "Programming Assignment_24.ipynb",
      "provenance": []
    },
    "kernelspec": {
      "name": "python3",
      "display_name": "Python 3"
    },
    "language_info": {
      "name": "python"
    }
  },
  "cells": [
    {
      "cell_type": "code",
      "execution_count": null,
      "metadata": {
        "id": "WVPj8l-_esyf"
      },
      "outputs": [],
      "source": [
        "Question1\n",
        "Create a function that takes an integer and returns a list from 1 to the given number, where:\n",
        "1. If the number can be divided evenly by 4, amplify it by 10 (i.e. return 10 times the\n",
        "number).\n",
        "2. If the number cannot be divided evenly by 4, simply return the number.\n",
        "Examples\n",
        "amplify(4) ➞ [1, 2, 3, 40]\n",
        "amplify(3) ➞ [1, 2, 3]\n",
        "amplify(25) ➞ [1, 2, 3, 40, 5, 6, 7, 80, 9, 10, 11, 120, 13, 14, 15, 160,\n",
        "17, 18, 19, 200, 21, 22, 23, 240, 25]\n",
        "Notes\n",
        " The given integer will always be equal to or greater than 1.\n",
        " Include the number (see example above).\n",
        " To perform this problem with its intended purpose, try doing it with list\n",
        "comprehensions. If that&#39;s too difficult, just solve the challenge any way you can."
      ]
    },
    {
      "cell_type": "code",
      "source": [
        "def amplify(n):\n",
        "  l=[]\n",
        "  for i in range(1,n+1):\n",
        "    if i%4==0:\n",
        "      l.append(i*10)\n",
        "    else:\n",
        "      l.append(i)\n",
        "  return l\n",
        "amplify(4)"
      ],
      "metadata": {
        "colab": {
          "base_uri": "https://localhost:8080/"
        },
        "id": "yVLGqCWOR-xf",
        "outputId": "64cce718-bf59-4c91-9d8b-3d361fd41f7d"
      },
      "execution_count": 1,
      "outputs": [
        {
          "output_type": "execute_result",
          "data": {
            "text/plain": [
              "[1, 2, 3, 40]"
            ]
          },
          "metadata": {},
          "execution_count": 1
        }
      ]
    },
    {
      "cell_type": "code",
      "source": [
        "Question2\n",
        "Create a function that takes a list of numbers and return the number that is  unique.\n",
        "Examples\n",
        "unique([3, 3, 3, 7, 3, 3]) ➞ 7\n",
        "unique([0, 0, 0.77, 0, 0]) ➞ 0.77\n",
        "unique([0, 1, 1, 1, 1, 1, 1, 1]) ➞ 0\n",
        "Notes\n",
        "Test cases will always have exactly one unique number while all others are the same."
      ],
      "metadata": {
        "id": "phonYnSVWstB"
      },
      "execution_count": null,
      "outputs": []
    },
    {
      "cell_type": "code",
      "source": [
        "def unique(l):\n",
        "  word=[i for i in l if l.count(i)==1]\n",
        "  k=\"\".join(map(str,word))\n",
        "  return int(k)\n",
        "unique([3, 3, 3, 7, 3, 3])"
      ],
      "metadata": {
        "colab": {
          "base_uri": "https://localhost:8080/"
        },
        "id": "oTtA5X70ajz0",
        "outputId": "03a1a8e0-34ec-4694-df11-e0edccb3963e"
      },
      "execution_count": 22,
      "outputs": [
        {
          "output_type": "execute_result",
          "data": {
            "text/plain": [
              "7"
            ]
          },
          "metadata": {},
          "execution_count": 22
        }
      ]
    },
    {
      "cell_type": "code",
      "source": [
        "Question3\n",
        "Your task is to create a Circle constructor that creates a circle with a radius provided by an\n",
        "argument. The circles constructed must have two getters getArea() (PIr^2) and\n",
        "getPerimeter() (2PI*r) which give both respective areas and perimeter (circumference).\n",
        "\n",
        "For help with this class, I have provided you with a Rectangle constructor which you can use\n",
        "as a base example.\n",
        "Examples\n",
        "circy = Circle(11)\n",
        "circy.getArea()\n",
        "# Should return 380.132711084365\n",
        "circy = Circle(4.44)\n",
        "circy.getPerimeter()\n",
        "# Should return 27.897342763877365\n",
        "Notes\n",
        "Round results up to the nearest integer."
      ],
      "metadata": {
        "id": "986kr_bb13sS"
      },
      "execution_count": null,
      "outputs": []
    },
    {
      "cell_type": "code",
      "source": [
        "import math\n",
        "class Circle():\n",
        "    def __init__(self, r):\n",
        "        self.radius = r\n",
        "\n",
        "    def getArea(self):\n",
        "        return self.radius**2*math.pi\n",
        "    \n",
        "    def getPerimeter(self):\n",
        "        return 2*math.pi*self.radius\n",
        "circy = Circle(11)\n",
        "print(circy.getArea())\n",
        "circy = Circle(4.44)\n",
        "print(circy.getPerimeter())"
      ],
      "metadata": {
        "colab": {
          "base_uri": "https://localhost:8080/"
        },
        "id": "hJa0Sp6K2HEq",
        "outputId": "b7c9b341-0038-4fa3-e446-09894d6a81f0"
      },
      "execution_count": 32,
      "outputs": [
        {
          "output_type": "stream",
          "name": "stdout",
          "text": [
            "380.132711084365\n",
            "27.897342763877365\n"
          ]
        }
      ]
    },
    {
      "cell_type": "code",
      "source": [
        "Question4\n",
        "Create a function that takes a list of strings and return a list, sorted from shortest to longest.\n",
        "Examples\n",
        "sort_by_length([\"Google\", \"Apple\", \"Microsoft\"])\n",
        "➞ [\"Apple\", \"Google\", \"Microsoft\"]\n",
        "\n",
        "sort_by_length([\"Leonardo\", \"Michelangelo\", \"Raphael\", \"Donatello\"])\n",
        "➞ [\"Raphael\", \"Leonardo\", \"Donatello\", \"Michelangelo\"]\n",
        "\n",
        "sort_by_length([\"Turing\", \"Einstein\", \"Jung\"])\n",
        "➞ [\"Jung\", \"Turing\", \"Einstein\"]\n",
        "Notes\n",
        "All test cases contain lists with strings of different lengths, so you won't have to deal with multiple strings of the same length.\n",
        "\n"
      ],
      "metadata": {
        "id": "99EC-7694qA4"
      },
      "execution_count": null,
      "outputs": []
    },
    {
      "cell_type": "code",
      "source": [
        "def sort_by_length(l):\n",
        "  return sorted(l,key=len)\n",
        "sort_by_length([\"Google\", \"Apple\", \"Microsoft\"])"
      ],
      "metadata": {
        "colab": {
          "base_uri": "https://localhost:8080/"
        },
        "id": "1-iG2a1l428t",
        "outputId": "ee35592e-9ea5-489d-c933-8bab21ba00e9"
      },
      "execution_count": 35,
      "outputs": [
        {
          "output_type": "execute_result",
          "data": {
            "text/plain": [
              "['Apple', 'Google', 'Microsoft']"
            ]
          },
          "metadata": {},
          "execution_count": 35
        }
      ]
    },
    {
      "cell_type": "code",
      "source": [
        "Question5\n",
        "Create a function that validates whether three given integers form a Pythagorean triplet. The sum of the squares of the two smallest integers must equal the square of the largest number to be validated.\n",
        "\n",
        "\n",
        "Examples\n",
        "is_triplet(3, 4, 5) ➞ True\n",
        "# 3² + 4² = 25\n",
        "# 5² = 25\n",
        "\n",
        "is_triplet(13, 5, 12) ➞ True\n",
        "# 5² + 12² = 169\n",
        "# 13² = 169\n",
        "\n",
        "is_triplet(1, 2, 3) ➞ False\n",
        "# 1² + 2² = 5\n",
        "# 3² = 9\n",
        "Notes\n",
        "Numbers may not be given in a sorted order.\n",
        "\n",
        "\n"
      ],
      "metadata": {
        "id": "84tCgTeA42Fb"
      },
      "execution_count": null,
      "outputs": []
    },
    {
      "cell_type": "code",
      "source": [
        "def is_triplet(a,b,c):\n",
        "  l=sorted([a,b,c])\n",
        "  if l[0]**2+l[1]**2==l[2]**2:\n",
        "    return True\n",
        "  else:\n",
        "    return False\n",
        "is_triplet(3, 4, 5)"
      ],
      "metadata": {
        "colab": {
          "base_uri": "https://localhost:8080/"
        },
        "id": "7B5T747Z5cA7",
        "outputId": "76bd6da9-8e11-4f2d-b745-730fd6e28533"
      },
      "execution_count": 38,
      "outputs": [
        {
          "output_type": "execute_result",
          "data": {
            "text/plain": [
              "True"
            ]
          },
          "metadata": {},
          "execution_count": 38
        }
      ]
    }
  ]
}