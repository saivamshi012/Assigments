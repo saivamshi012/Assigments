{
  "nbformat": 4,
  "nbformat_minor": 0,
  "metadata": {
    "colab": {
      "name": "Untitled24.ipynb",
      "provenance": []
    },
    "kernelspec": {
      "name": "python3",
      "display_name": "Python 3"
    },
    "language_info": {
      "name": "python"
    }
  },
  "cells": [
    {
      "cell_type": "code",
      "execution_count": null,
      "metadata": {
        "id": "Tobj55qeEJXu"
      },
      "outputs": [],
      "source": [
        "1. What does an empty dictionarys code look like?\n",
        "Empty dictionary looks like dict={}"
      ]
    },
    {
      "cell_type": "code",
      "source": [
        "2. What is the value of a dictionary value with the key 'foo' and the value 42?\n",
        "dict={'foo':42}"
      ],
      "metadata": {
        "id": "W6LPcRAVN31W"
      },
      "execution_count": null,
      "outputs": []
    },
    {
      "cell_type": "code",
      "source": [
        "3. What is the most significant distinction between a dictionary and a list?\n",
        "dictionary is a hashed structure of value and a key pair where as list is a collection of indexed values."
      ],
      "metadata": {
        "id": "8kPp-RQDN6At"
      },
      "execution_count": null,
      "outputs": []
    },
    {
      "cell_type": "code",
      "source": [
        "4. What happens if you try to access spam['foo'] if spam is {'bar': 100}?\n",
        "You will get a KeyError error.\n"
      ],
      "metadata": {
        "id": "8VB6nmjHN47d"
      },
      "execution_count": null,
      "outputs": []
    },
    {
      "cell_type": "code",
      "source": [
        "5. If a dictionary is stored in spam, what is the difference between the expressions 'cat' in spam and\n",
        "'cat' in spam.keys()?\n",
        "'cat' in spam checks whether'cat' exists as a key in spam. 'cat' in spam.values() checks whether 'cat' is a value in spam.\n"
      ],
      "metadata": {
        "id": "8lIf6Bq_N7uV"
      },
      "execution_count": null,
      "outputs": []
    },
    {
      "cell_type": "code",
      "source": [
        "6. If a dictionary is stored in spam, what is the difference between the expressions 'cat' in spam and\n",
        "'cat' in spam.values()?\n",
        "'cat' in spam checks whether'cat' exists as a key in spam. 'cat' in spam.values() checks whether 'cat' is a value in spam.\n"
      ],
      "metadata": {
        "id": "NubmMvi4N808"
      },
      "execution_count": null,
      "outputs": []
    },
    {
      "cell_type": "code",
      "source": [
        "7. What is a shortcut for the following code?\n",
        "if 'color' not in spam:\n",
        "  spam['color'] = 'black'\n",
        "\n",
        "spam.setdefault('color','black')\n"
      ],
      "metadata": {
        "id": "7btseU69N-er"
      },
      "execution_count": null,
      "outputs": []
    },
    {
      "cell_type": "code",
      "source": [
        "8. How do you 'pretty print' dictionary values using which module and function?\n",
        "The module is pprint.\n",
        "The functions are pprint.pprint() and pprint.pformat().\n"
      ],
      "metadata": {
        "id": "QbOfFrK9N_1l"
      },
      "execution_count": null,
      "outputs": []
    }
  ]
}