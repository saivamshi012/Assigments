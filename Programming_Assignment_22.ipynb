{
  "nbformat": 4,
  "nbformat_minor": 0,
  "metadata": {
    "colab": {
      "name": "Programming Assignment_22.ipynb",
      "provenance": []
    },
    "kernelspec": {
      "name": "python3",
      "display_name": "Python 3"
    },
    "language_info": {
      "name": "python"
    }
  },
  "cells": [
    {
      "cell_type": "code",
      "execution_count": null,
      "metadata": {
        "id": "DZr3aO8M0OR_"
      },
      "outputs": [],
      "source": [
        "Question1\n",
        "Create a function that takes three parameters where:\n",
        " x is the start of the range (inclusive).\n",
        " y is the end of the range (inclusive).\n",
        " n is the divisor to be checked against.\n",
        "Return an ordered list with numbers in the range that are divisible by the third parameter n.\n",
        "Return an empty list if there are no numbers that are divisible by n.\n",
        "Examples\n",
        "list_operation(1, 10, 3) ➞ [3, 6, 9]\n",
        "list_operation(7, 9, 2) ➞ [8]\n",
        "list_operation(15, 20, 7) ➞ []"
      ]
    },
    {
      "cell_type": "code",
      "source": [
        "def list_operation(s,e,m):\n",
        "  l=[]\n",
        "  for i in range(s,e):\n",
        "    if i%m==0:\n",
        "      l.append(i)\n",
        "    else:\n",
        "      pass\n",
        "  return l\n",
        "list_operation(1, 10, 3)"
      ],
      "metadata": {
        "colab": {
          "base_uri": "https://localhost:8080/"
        },
        "id": "yQ4CXgI80O53",
        "outputId": "db0f7dc1-2b8d-4fee-b4bf-a7a5c1a6f88b"
      },
      "execution_count": null,
      "outputs": [
        {
          "output_type": "execute_result",
          "data": {
            "text/plain": [
              "[3, 6, 9]"
            ]
          },
          "metadata": {},
          "execution_count": 1
        }
      ]
    },
    {
      "cell_type": "code",
      "source": [
        "Question2\n",
        "Create a function that takes in two lists and returns True if the second list follows the first list\n",
        "by one element, and False otherwise. In other words, determine if the second list is the first\n",
        "list shifted to the right by 1.\n",
        "Examples\n",
        "simon_says([1, 2], [5, 1]) ➞ True\n",
        "simon_says([1, 2], [5, 5]) ➞ False\n",
        "simon_says([1, 2, 3, 4, 5], [0, 1, 2, 3, 4]) ➞ True\n",
        "simon_says([1, 2, 3, 4, 5], [5, 5, 1, 2, 3]) ➞ False\n",
        "Notes\n",
        " Both input lists will be of the same length, and will have a minimum length of 2.\n",
        " The values of the 0-indexed element in the second list and the n-1th indexed element\n",
        "in the first list do not matter."
      ],
      "metadata": {
        "id": "Y8HIOINO0qIs"
      },
      "execution_count": null,
      "outputs": []
    },
    {
      "cell_type": "code",
      "source": [
        "def simon_says(l,l1):\n",
        "  if l[0]==l1[1]:\n",
        "    return True\n",
        "  else:\n",
        "    return False\n",
        "simon_says([1, 2], [5, 1])"
      ],
      "metadata": {
        "colab": {
          "base_uri": "https://localhost:8080/"
        },
        "id": "EPG4xH4X0quA",
        "outputId": "1acdbf05-5ee2-4b01-c859-730eaed754ef"
      },
      "execution_count": null,
      "outputs": [
        {
          "output_type": "execute_result",
          "data": {
            "text/plain": [
              "True"
            ]
          },
          "metadata": {},
          "execution_count": 2
        }
      ]
    },
    {
      "cell_type": "code",
      "source": [
        "Question3\n",
        "A group of friends have decided to start a secret society. The name will be the first letter of\n",
        "each of their names, sorted in alphabetical order.\n",
        "Create a function that takes in a list of names and returns the name of the secret society.\n",
        "\n",
        "Examples\n",
        "society_name([\"Adam\", \"Sarah\",\"Malcolm\"]) ➞ AMS\n",
        "society_name([\"Harry\", \"New\", \"Luna\", \"Cho\"]) ➞ CHLN\n",
        "society_name([\"Phoebe\", \"Chandler\", \"Rachel\", \"Ross\", \"Monica\", \"Joey\"])"
      ],
      "metadata": {
        "id": "1rhia_PK1ZEc"
      },
      "execution_count": null,
      "outputs": []
    },
    {
      "cell_type": "code",
      "source": [
        "def society_name(l):\n",
        "  f=[i[0] for i in l]\n",
        "  str(f.sort())\n",
        "  return \"\".join(f)\n",
        "  \n",
        "k=society_name([\"Adam\", \"Sarah\",\"Malcolm\"])\n",
        "print(k)"
      ],
      "metadata": {
        "colab": {
          "base_uri": "https://localhost:8080/"
        },
        "id": "T3VhkywZ2H1_",
        "outputId": "0db2e0ff-a27e-44e8-d1bf-700cbd18d7bf"
      },
      "execution_count": null,
      "outputs": [
        {
          "output_type": "stream",
          "name": "stdout",
          "text": [
            "AMS\n"
          ]
        }
      ]
    },
    {
      "cell_type": "code",
      "source": [
        "Question4\n",
        "An isogram is a word that has no duplicate letters. Create a function that takes a string and\n",
        "returns either True or False depending on whether or not it \"isogram\".\n",
        "Examples\n",
        "is_isogram(\"Algorism\") ➞ True\n",
        "is_isogram(\"PasSword\") ➞ False\n",
        "# Not case sensitive.\n",
        "is_isogram(\"Consecutive\") ➞ False\n",
        "Notes\n",
        " Ignore letter case (should not be case sensitive).\n",
        " All test cases contain valid one word strings."
      ],
      "metadata": {
        "id": "uqWBAN_8Fphe"
      },
      "execution_count": null,
      "outputs": []
    },
    {
      "cell_type": "code",
      "source": [
        "def is_isogram(s):\n",
        "  return len(s)==len(set(s.lower()))\n",
        "is_isogram(\"PasSword\")"
      ],
      "metadata": {
        "colab": {
          "base_uri": "https://localhost:8080/"
        },
        "id": "1Gn1hFHSGFUM",
        "outputId": "562622cd-8df2-469a-e0ac-c707f1b9b7eb"
      },
      "execution_count": null,
      "outputs": [
        {
          "output_type": "execute_result",
          "data": {
            "text/plain": [
              "False"
            ]
          },
          "metadata": {},
          "execution_count": 34
        }
      ]
    },
    {
      "cell_type": "code",
      "source": [
        "Question5\n",
        "Create a function that takes a string and returns True or False, depending on whether the\n",
        "characters are in order or not.\n",
        "Examples\n",
        "is_in_order(\"abc\") ➞ True\n",
        "is_in_order(\"edabit\") ➞ False\n",
        "is_in_order(\"123\") ➞ True\n",
        "is_in_order(\"xyzz\") ➞ True\n",
        "Notes\n",
        "You don't have to handle empty strings."
      ],
      "metadata": {
        "id": "_keiov0JJSBy"
      },
      "execution_count": null,
      "outputs": []
    },
    {
      "cell_type": "code",
      "source": [
        "s=\"abc\"\n",
        "s1=\"\".join(sorted(s))\n",
        "if s==s1:\n",
        "  print(True)\n",
        "else:\n",
        "  print(False)"
      ],
      "metadata": {
        "colab": {
          "base_uri": "https://localhost:8080/"
        },
        "id": "DKqD3Dc7JSmV",
        "outputId": "e7a83a72-31f0-4135-a355-8fafa429fab7"
      },
      "execution_count": null,
      "outputs": [
        {
          "output_type": "stream",
          "name": "stdout",
          "text": [
            "True\n"
          ]
        }
      ]
    }
  ]
}