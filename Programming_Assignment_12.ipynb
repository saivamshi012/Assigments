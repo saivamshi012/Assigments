{
  "nbformat": 4,
  "nbformat_minor": 0,
  "metadata": {
    "colab": {
      "name": "Programming Assignment_12.ipynb",
      "provenance": []
    },
    "kernelspec": {
      "name": "python3",
      "display_name": "Python 3"
    },
    "language_info": {
      "name": "python"
    }
  },
  "cells": [
    {
      "cell_type": "code",
      "execution_count": null,
      "metadata": {
        "id": "DDpg1U-fp7ve"
      },
      "outputs": [],
      "source": [
        "1. Write a Python program to Extract Unique values dictionary values?\n"
      ]
    },
    {
      "cell_type": "code",
      "source": [
        "d={'a':10,\n",
        "   'b':10,\n",
        "   'c':9}\n",
        "print(set(d.values()))"
      ],
      "metadata": {
        "colab": {
          "base_uri": "https://localhost:8080/"
        },
        "id": "SQPrPgoWqF_5",
        "outputId": "1f1b7587-a375-406c-9e10-bcb705902563"
      },
      "execution_count": null,
      "outputs": [
        {
          "output_type": "stream",
          "name": "stdout",
          "text": [
            "{9, 10}\n"
          ]
        }
      ]
    },
    {
      "cell_type": "code",
      "source": [
        "2. Write a Python program to find the sum of all items in a dictionary?\n"
      ],
      "metadata": {
        "id": "_cDW2ukip_eR"
      },
      "execution_count": null,
      "outputs": []
    },
    {
      "cell_type": "code",
      "source": [
        "d={'a':10,\n",
        "   'b':10,\n",
        "   'c':9}\n",
        "sum=0\n",
        "for i in d.values():\n",
        "  sum=sum+i\n",
        "print(sum)\n"
      ],
      "metadata": {
        "colab": {
          "base_uri": "https://localhost:8080/"
        },
        "id": "kNVG53zKraDO",
        "outputId": "c0a7a75c-a14e-4fd3-ad01-29760855b5da"
      },
      "execution_count": null,
      "outputs": [
        {
          "output_type": "stream",
          "name": "stdout",
          "text": [
            "29\n"
          ]
        }
      ]
    },
    {
      "cell_type": "code",
      "source": [
        "3. Write a Python program to Merging two Dictionaries?\n"
      ],
      "metadata": {
        "id": "RNzsAIVhqAmn"
      },
      "execution_count": null,
      "outputs": []
    },
    {
      "cell_type": "code",
      "source": [
        "d={'a':10,\n",
        "   'b':10,\n",
        "   'c':9}\n",
        "\n",
        "e={'d':10,\n",
        "   'e':10,\n",
        "   'f':9}\n",
        "\n",
        "copying=d.copy()\n",
        "copying.update(e)\n",
        "print(copying)"
      ],
      "metadata": {
        "colab": {
          "base_uri": "https://localhost:8080/"
        },
        "id": "gWrJwSEBsR3l",
        "outputId": "519b2f0e-f5d1-4790-8067-7822859e378a"
      },
      "execution_count": null,
      "outputs": [
        {
          "output_type": "stream",
          "name": "stdout",
          "text": [
            "{'a': 10, 'b': 10, 'c': 9, 'd': 10, 'e': 10, 'f': 9}\n"
          ]
        }
      ]
    },
    {
      "cell_type": "code",
      "source": [
        "4. Write a Python program to convert key-values list to flat dictionary?\n"
      ],
      "metadata": {
        "id": "Cfik011bqB1o"
      },
      "execution_count": null,
      "outputs": []
    },
    {
      "cell_type": "code",
      "source": [
        "k=['a','b','c']\n",
        "v=[12,13,14]\n",
        "d=dict(zip(k,v))\n",
        "print(d)"
      ],
      "metadata": {
        "colab": {
          "base_uri": "https://localhost:8080/"
        },
        "id": "2BT7WzbOtUuQ",
        "outputId": "0f5ea000-948c-4f72-a910-acea03c7f283"
      },
      "execution_count": null,
      "outputs": [
        {
          "output_type": "stream",
          "name": "stdout",
          "text": [
            "{'a': 12, 'b': 13, 'c': 14}\n"
          ]
        }
      ]
    },
    {
      "cell_type": "code",
      "source": [
        "5. Write a Python program to insertion at the beginning in OrderedDict?\n"
      ],
      "metadata": {
        "id": "ws0VJdv8qC3W"
      },
      "execution_count": null,
      "outputs": []
    },
    {
      "cell_type": "code",
      "source": [
        "from collections import OrderedDict \n",
        "data=[('car','fourwheeler'),('auto','threewheeler')]\n",
        "update_dict={'bike':'twowheeler'}\n",
        "ord_data=OrderedDict(data)\n",
        "ord_data.update(update_dict)\n",
        "print(ord_data)\n",
        "\n",
        "ord_data.move_to_end('bike',last=False)\n",
        "print(\"Inserting at the beginning\",ord_data.items())"
      ],
      "metadata": {
        "colab": {
          "base_uri": "https://localhost:8080/"
        },
        "id": "SuawHut_tyaV",
        "outputId": "2bc89e8d-eb8c-4b51-91ce-a1f5c6005bb5"
      },
      "execution_count": null,
      "outputs": [
        {
          "output_type": "stream",
          "name": "stdout",
          "text": [
            "OrderedDict([('car', 'fourwheeler'), ('auto', 'threewheeler'), ('bike', 'twowheeler')])\n",
            "Inserting at the beginning odict_items([('bike', 'twowheeler'), ('car', 'fourwheeler'), ('auto', 'threewheeler')])\n"
          ]
        }
      ]
    },
    {
      "cell_type": "code",
      "source": [
        "6. Write a Python program to check order of character in string using OrderedDict()?\n"
      ],
      "metadata": {
        "id": "UlZT1qiCqEIm"
      },
      "execution_count": null,
      "outputs": []
    },
    {
      "cell_type": "code",
      "source": [
        "from collections import OrderedDict\n",
        "def check_order(my_input, my_pattern):\n",
        "   my_dict = OrderedDict.fromkeys(my_input)\n",
        "   pattern_length = 0\n",
        "   for key,value in my_dict.items():\n",
        "      if (key == my_pattern[pattern_length]):\n",
        "         pattern_length = pattern_length + 1\n",
        "\n",
        "      if (pattern_length == (len(my_pattern))):\n",
        "         return 'The order of pattern is correct'\n",
        "\n",
        "   return 'The order of pattern is incorrect'\n",
        "\n",
        "my_input = 'Hi Mark'\n",
        "input_pattern = 'Ma'\n",
        "print(\"The string is \")\n",
        "print(my_input)\n",
        "print(\"The input pattern is \")\n",
        "print(input_pattern)\n",
        "print(check_order(my_input,input_pattern))"
      ],
      "metadata": {
        "colab": {
          "base_uri": "https://localhost:8080/"
        },
        "id": "u5qWADLr2meb",
        "outputId": "9a325e46-a965-4279-f9d2-c3ecd5080ebf"
      },
      "execution_count": 2,
      "outputs": [
        {
          "output_type": "stream",
          "name": "stdout",
          "text": [
            "The string is \n",
            "Hi Mark\n",
            "The input pattern is \n",
            "Ma\n",
            "OrderedDict([('H', None), ('i', None), (' ', None), ('M', None), ('a', None), ('r', None), ('k', None)])\n",
            "The order of pattern is correct\n"
          ]
        }
      ]
    },
    {
      "cell_type": "code",
      "source": [
        "7. Write a Python program to sort Python Dictionaries by Key or Value?"
      ],
      "metadata": {
        "id": "O5Qn4f4pqFGs"
      },
      "execution_count": null,
      "outputs": []
    },
    {
      "cell_type": "code",
      "source": [
        "d={'a':3,'d':4,'c':5}\n",
        "print(\"sorted by keys\",dict(sorted(d.items())))\n",
        "print(\"sorted by values\",dict(sorted(d.items(),key= lambda v:v[1])))\n"
      ],
      "metadata": {
        "colab": {
          "base_uri": "https://localhost:8080/"
        },
        "id": "_ENDu3d45CUS",
        "outputId": "945055f4-20b1-4c79-82d1-ba492d143b8e"
      },
      "execution_count": 10,
      "outputs": [
        {
          "output_type": "stream",
          "name": "stdout",
          "text": [
            "sorted by keys {'a': 3, 'c': 5, 'd': 4}\n",
            "sorted by values {'a': 3, 'd': 4, 'c': 5}\n"
          ]
        }
      ]
    }
  ]
}