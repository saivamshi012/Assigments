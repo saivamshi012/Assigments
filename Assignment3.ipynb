{
 "cells": [
  {
   "cell_type": "code",
   "execution_count": null,
   "id": "92745c78",
   "metadata": {},
   "outputs": [],
   "source": [
    "1. Why are functions advantageous to have in your programs?\n",
    "\n",
    "Answer: \n",
    "Functions are used to call a method enumber of times.\n",
    "No need of implementing a similar task again and again ,\n",
    "instead we write them in a function so that we can reuse and recall it when required."
   ]
  },
  {
   "cell_type": "code",
   "execution_count": null,
   "id": "0e3ea3b9",
   "metadata": {},
   "outputs": [],
   "source": [
    "2. When does the code in a function run: when it is specified or when it is called?\n",
    "    \n",
    "Answer: when a function is called it goes to the program definition and executes the statements inside the function."
   ]
  },
  {
   "cell_type": "code",
   "execution_count": null,
   "id": "4f5b86a9",
   "metadata": {},
   "outputs": [],
   "source": [
    "3. What statement creates a function?\n",
    "\n",
    "Answer: Funtion is created using a def keyword. "
   ]
  },
  {
   "cell_type": "code",
   "execution_count": null,
   "id": "b53da0e6",
   "metadata": {},
   "outputs": [],
   "source": [
    "4. What is the difference between a function and a function call?\n",
    "\n",
    "Answer: Function is a group of statements that together performs a task \n",
    "and Function call is to invoke the function which is created."
   ]
  },
  {
   "cell_type": "code",
   "execution_count": null,
   "id": "1ad94ec0",
   "metadata": {},
   "outputs": [],
   "source": [
    "5. How many global scopes are there in a Python program? How many local scopes?\n",
    "\n",
    "A: We have only one global scope per program which is assigned before starting main program and local scopes are created inside a block of program."
   ]
  },
  {
   "cell_type": "code",
   "execution_count": null,
   "id": "02306a54",
   "metadata": {},
   "outputs": [],
   "source": [
    "6. What happens to variables in a local scope when the function call returns?\n",
    "\n",
    "Answer:  A local variable retains its value until the next time the function is called.\n"
   ]
  },
  {
   "cell_type": "code",
   "execution_count": null,
   "id": "f5a4b9bf",
   "metadata": {},
   "outputs": [],
   "source": [
    "7. What is the concept of a return value? Is it possible to have a return value in an expression?\n",
    "\n",
    "Answer: A return is a value that a function returns to the calling script or function when it completes its task.\n",
    "It is possible to have return value in an expression."
   ]
  },
  {
   "cell_type": "code",
   "execution_count": null,
   "id": "d3b2c054",
   "metadata": {},
   "outputs": [],
   "source": [
    "8. If a function does not have a return statement, what is the return value of a call to that function?\n",
    "\n",
    "Answer:It returns none.\n"
   ]
  },
  {
   "cell_type": "code",
   "execution_count": null,
   "id": "e5961259",
   "metadata": {},
   "outputs": [],
   "source": [
    "9. How do you make a function variable refer to the global variable?\n",
    "\n",
    "Answer: If we want to refer a function variable to a global variable , we can use the global keyword to declare which variables are global."
   ]
  },
  {
   "cell_type": "code",
   "execution_count": null,
   "id": "7d108caa",
   "metadata": {},
   "outputs": [],
   "source": [
    "10. What is the data type of None?\n",
    "\n",
    "Answer: None belongs to the dataype of Nonetype."
   ]
  },
  {
   "cell_type": "code",
   "execution_count": null,
   "id": "3b6e8091",
   "metadata": {},
   "outputs": [],
   "source": [
    "11. What does the sentence import areallyourpetsnamederic do?\n"
   ]
  },
  {
   "cell_type": "code",
   "execution_count": null,
   "id": "8fca3d0c",
   "metadata": {},
   "outputs": [],
   "source": [
    "12. If you had a bacon() feature in a spam module, what would you call it after importing spam?\n",
    "\n",
    "Answer: spam.bacon()"
   ]
  },
  {
   "cell_type": "code",
   "execution_count": null,
   "id": "9b45434a",
   "metadata": {},
   "outputs": [],
   "source": [
    "13. What can you do to save a programme from crashing if it encounters an error?\n",
    "\n",
    "Answer: In such situations we use Error Handling methods.\n"
   ]
  },
  {
   "cell_type": "code",
   "execution_count": null,
   "id": "5d12a3e2",
   "metadata": {},
   "outputs": [],
   "source": [
    "14. What is the purpose of the try clause? What is the purpose of the except clause?\n",
    "\n",
    "Answer: Try clause is used to test a block of code for errors and Except clause is used to handle the error which is written in try block with\n",
    "the pre-defined errorHandling class methods."
   ]
  }
 ],
 "metadata": {
  "kernelspec": {
   "display_name": "Python 3 (ipykernel)",
   "language": "python",
   "name": "python3"
  },
  "language_info": {
   "codemirror_mode": {
    "name": "ipython",
    "version": 3
   },
   "file_extension": ".py",
   "mimetype": "text/x-python",
   "name": "python",
   "nbconvert_exporter": "python",
   "pygments_lexer": "ipython3",
   "version": "3.9.7"
  }
 },
 "nbformat": 4,
 "nbformat_minor": 5
}
