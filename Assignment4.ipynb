{
  "nbformat": 4,
  "nbformat_minor": 0,
  "metadata": {
    "colab": {
      "name": "Untitled",
      "provenance": []
    },
    "kernelspec": {
      "name": "python3",
      "display_name": "Python 3"
    },
    "language_info": {
      "name": "python"
    }
  },
  "cells": [
    {
      "cell_type": "code",
      "source": [
        "1. What exactly is []?\n",
        "Answer : Indexing"
      ],
      "metadata": {
        "id": "-Cr-4n6sjxls"
      },
      "execution_count": null,
      "outputs": []
    },
    {
      "cell_type": "code",
      "source": [
        "2. In a list of values stored in a variable called spam, how would you assign the value 'hello'; as the\n",
        "third value? (Assume [2, 4, 6, 8, 10] are in spam.)"
      ],
      "metadata": {
        "id": "02yt5kbFj8uc"
      },
      "execution_count": null,
      "outputs": []
    },
    {
      "cell_type": "code",
      "source": [
        "spam=[2,4,6,8,10]\n",
        "spam[2]='hello'\n",
        "spam"
      ],
      "metadata": {
        "colab": {
          "base_uri": "https://localhost:8080/"
        },
        "id": "Dzr4EuS9kRgR",
        "outputId": "c7758b99-fde7-4b7e-8e86-6afdea0f4aa6"
      },
      "execution_count": 1,
      "outputs": [
        {
          "output_type": "execute_result",
          "data": {
            "text/plain": [
              "[2, 4, 'hello', 8, 10]"
            ]
          },
          "metadata": {},
          "execution_count": 1
        }
      ]
    },
    {
      "cell_type": "code",
      "source": [
        "spam=['a','b','c','d']"
      ],
      "metadata": {
        "id": "j0HCysSalQ--"
      },
      "execution_count": 5,
      "outputs": []
    },
    {
      "cell_type": "code",
      "source": [
        "3. What is the value of spam[int(int(&#39;3&#39; * 2) / 11)]?"
      ],
      "metadata": {
        "id": "-DbpVUNYkh2E"
      },
      "execution_count": null,
      "outputs": []
    },
    {
      "cell_type": "code",
      "source": [
        "spam[int(int('3'*2) / 11)]"
      ],
      "metadata": {
        "colab": {
          "base_uri": "https://localhost:8080/",
          "height": 35
        },
        "id": "r4oIbQPCksRB",
        "outputId": "ad2d151a-269d-4e9c-fcc3-e6710590cd42"
      },
      "execution_count": 6,
      "outputs": [
        {
          "output_type": "execute_result",
          "data": {
            "application/vnd.google.colaboratory.intrinsic+json": {
              "type": "string"
            },
            "text/plain": [
              "'d'"
            ]
          },
          "metadata": {},
          "execution_count": 6
        }
      ]
    },
    {
      "cell_type": "code",
      "source": [
        "4. What is the value of spam[-1]?"
      ],
      "metadata": {
        "id": "UG2pHCSYkzhh"
      },
      "execution_count": null,
      "outputs": []
    },
    {
      "cell_type": "code",
      "source": [
        "spam[-1]"
      ],
      "metadata": {
        "colab": {
          "base_uri": "https://localhost:8080/",
          "height": 35
        },
        "id": "Brx3a6SMk4qx",
        "outputId": "6df78c1f-4b34-446e-b366-170d355cada4"
      },
      "execution_count": 7,
      "outputs": [
        {
          "output_type": "execute_result",
          "data": {
            "application/vnd.google.colaboratory.intrinsic+json": {
              "type": "string"
            },
            "text/plain": [
              "'d'"
            ]
          },
          "metadata": {},
          "execution_count": 7
        }
      ]
    },
    {
      "cell_type": "code",
      "source": [
        "5. What is the value of spam[:2]?"
      ],
      "metadata": {
        "id": "7Y48GK4rk72C"
      },
      "execution_count": null,
      "outputs": []
    },
    {
      "cell_type": "code",
      "source": [
        "spam[:2]"
      ],
      "metadata": {
        "colab": {
          "base_uri": "https://localhost:8080/"
        },
        "id": "oXHABiC7k_Yc",
        "outputId": "10b217bc-ad9a-4dc8-eb03-fc0a506471cb"
      },
      "execution_count": 8,
      "outputs": [
        {
          "output_type": "execute_result",
          "data": {
            "text/plain": [
              "['a', 'b']"
            ]
          },
          "metadata": {},
          "execution_count": 8
        }
      ]
    },
    {
      "cell_type": "code",
      "source": [
        "bacon=[3.14,'cat','11','cat', True]"
      ],
      "metadata": {
        "id": "NZ4vRZBKlJBW"
      },
      "execution_count": 9,
      "outputs": []
    },
    {
      "cell_type": "code",
      "source": [
        "6. What is the value of bacon.index('cat')?"
      ],
      "metadata": {
        "id": "9aMoNsohl1vP"
      },
      "execution_count": null,
      "outputs": []
    },
    {
      "cell_type": "code",
      "source": [
        "bacon.index('cat')"
      ],
      "metadata": {
        "colab": {
          "base_uri": "https://localhost:8080/"
        },
        "id": "OMwPEBDol5J9",
        "outputId": "5de50990-2977-4190-96b0-e67d3acdd515"
      },
      "execution_count": 10,
      "outputs": [
        {
          "output_type": "execute_result",
          "data": {
            "text/plain": [
              "1"
            ]
          },
          "metadata": {},
          "execution_count": 10
        }
      ]
    },
    {
      "cell_type": "code",
      "source": [
        "7. How does bacon.append(99) change the look of the list value in bacon?"
      ],
      "metadata": {
        "id": "X10E4348l_KU"
      },
      "execution_count": null,
      "outputs": []
    },
    {
      "cell_type": "code",
      "source": [
        "bacon.append(99)\n",
        "bacon"
      ],
      "metadata": {
        "colab": {
          "base_uri": "https://localhost:8080/"
        },
        "id": "zSxIRxEamEux",
        "outputId": "efe56ff1-262c-4ce9-8145-267cf1e98cb4"
      },
      "execution_count": 11,
      "outputs": [
        {
          "output_type": "execute_result",
          "data": {
            "text/plain": [
              "[3.14, 'cat', '11', 'cat', True, 99]"
            ]
          },
          "metadata": {},
          "execution_count": 11
        }
      ]
    },
    {
      "cell_type": "code",
      "source": [
        "8. How does bacon.remove('cat') change the look of the list in bacon?"
      ],
      "metadata": {
        "id": "iSoRmdelmI1C"
      },
      "execution_count": null,
      "outputs": []
    },
    {
      "cell_type": "code",
      "source": [
        "bacon.remove('cat')\n",
        "bacon"
      ],
      "metadata": {
        "colab": {
          "base_uri": "https://localhost:8080/"
        },
        "id": "6oCmoPYFmNJW",
        "outputId": "4fb47a44-60d6-4cc2-8893-d2ff3ec878ef"
      },
      "execution_count": 13,
      "outputs": [
        {
          "output_type": "execute_result",
          "data": {
            "text/plain": [
              "[3.14, '11', True, 99]"
            ]
          },
          "metadata": {},
          "execution_count": 13
        }
      ]
    },
    {
      "cell_type": "code",
      "source": [
        "9. What are the list concatenation and list replication operators?\n",
        "Answer: The operator for list concatenation is '+'  and  the operator for replication is '*'."
      ],
      "metadata": {
        "id": "RpFF3lYnmYyb"
      },
      "execution_count": null,
      "outputs": []
    },
    {
      "cell_type": "code",
      "source": [
        "10. What is difference between the list methods append() and insert()?\n",
        "\n",
        "Answer: append() attaches the element at the last index of list,insert() attaches the elements according to user specification."
      ],
      "metadata": {
        "id": "iwmu7JIgm9Iu"
      },
      "execution_count": null,
      "outputs": []
    },
    {
      "cell_type": "code",
      "source": [
        "11. What are the two methods for removing items from a list?\n",
        "\n",
        "   Answer: remove() method and pop()"
      ],
      "metadata": {
        "id": "sZ1Il6ZunfFL"
      },
      "execution_count": null,
      "outputs": []
    },
    {
      "cell_type": "code",
      "source": [
        "12. Describe how list values and string values are identical.\n",
        "\n",
        "Answer: Both are collections of elements,when comes to string,strings will have group of characters but list can have different types of data."
      ],
      "metadata": {
        "id": "ozAqeqScnqBX"
      },
      "execution_count": null,
      "outputs": []
    },
    {
      "cell_type": "code",
      "source": [
        "13. What is the difference between tuples and lists?\n",
        "\n",
        "Answer: tuples are immutable while lists are mutable."
      ],
      "metadata": {
        "id": "s2s9f4byoFHX"
      },
      "execution_count": null,
      "outputs": []
    },
    {
      "cell_type": "code",
      "source": [
        "14. How do you type a tuple value that only contains the integer 42?\n",
        "\n",
        "Answer:  (42,)"
      ],
      "metadata": {
        "id": "M8utmuXAs6bg"
      },
      "execution_count": null,
      "outputs": []
    },
    {
      "cell_type": "code",
      "source": [
        "15. How do you get a list values tuple form? How do you get a tuple values list form?\n",
        "\n",
        "Answer: We can use type conversion using list(1,2,3,4) and tuple[1,2,3,4]"
      ],
      "metadata": {
        "id": "vBFNWpsZtQg8"
      },
      "execution_count": null,
      "outputs": []
    },
    {
      "cell_type": "code",
      "source": [
        "a=(1,2,3,4,5)\n",
        "print(list(a))"
      ],
      "metadata": {
        "colab": {
          "base_uri": "https://localhost:8080/"
        },
        "id": "o27MDHeytjeE",
        "outputId": "1b389ecd-5533-4310-d0aa-180efaeee008"
      },
      "execution_count": 15,
      "outputs": [
        {
          "output_type": "stream",
          "name": "stdout",
          "text": [
            "[1, 2, 3, 4, 5]\n"
          ]
        }
      ]
    },
    {
      "cell_type": "code",
      "source": [
        "a=[1, 2, 3, 4, 5]\n",
        "print(tuple(a))"
      ],
      "metadata": {
        "colab": {
          "base_uri": "https://localhost:8080/"
        },
        "id": "D4GHcm3AutV1",
        "outputId": "2b4f772c-bb9f-4833-9808-765456adf4a5"
      },
      "execution_count": 16,
      "outputs": [
        {
          "output_type": "stream",
          "name": "stdout",
          "text": [
            "(1, 2, 3, 4, 5)\n"
          ]
        }
      ]
    },
    {
      "cell_type": "code",
      "source": [
        "16. Variables that \"contain\" list values are not necessarily lists themselves. Instead, what do they\n",
        "contain?\n",
        "\n",
        "Answer :Variables become a reference to those listed values."
      ],
      "metadata": {
        "id": "y5-VOn1cuz1c"
      },
      "execution_count": null,
      "outputs": []
    },
    {
      "cell_type": "code",
      "source": [
        "17. How do you distinguish between copy.copy() and copy.deepcopy()?"
      ],
      "metadata": {
        "id": "gnB1IqYUwUrQ"
      },
      "execution_count": null,
      "outputs": []
    }
  ]
}