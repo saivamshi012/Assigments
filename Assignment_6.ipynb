{
 "cells": [
  {
   "cell_type": "code",
   "execution_count": null,
   "id": "05b05efd",
   "metadata": {},
   "outputs": [],
   "source": [
    "1. What are escape characters, and how do you use them?\n",
    "\n",
    "Answer:\n",
    "To insert characters that are illegal in a string, use an escape character.\n",
    "\n",
    "An escape character is a backslash \\ followed by the character you want to insert."
   ]
  },
  {
   "cell_type": "code",
   "execution_count": null,
   "id": "40e409e8",
   "metadata": {},
   "outputs": [],
   "source": [
    "2. What do the escape characters n and t stand for?\n",
    "\n",
    "\n",
    "\\n stands for New Line , \\t stands for Tab"
   ]
  },
  {
   "cell_type": "code",
   "execution_count": null,
   "id": "b590ec50",
   "metadata": {},
   "outputs": [],
   "source": [
    "3. What is the way to include backslash characters in a string?\n",
    "\n",
    "\n",
    "In Python, the backslash(\\) is a special character. If you use the backslash in front of another character, it changes the meaning of that character.\n",
    "\n",
    "For example, the t is a literal character. But if you use the backslash character in front of the letter t, it’ll become the tab character (\\t)."
   ]
  },
  {
   "cell_type": "code",
   "execution_count": null,
   "id": "589ae550",
   "metadata": {},
   "outputs": [],
   "source": [
    "4. The string \"Howl's Moving Castle\" is a correct value. Why isn't the single quote character in the word Howl's not escaped a problem?\n",
    "\n",
    "The single quote in Howl's is fine because you've used double quotes to mark the beginning and end of the string."
   ]
  },
  {
   "cell_type": "code",
   "execution_count": null,
   "id": "5ada6346",
   "metadata": {},
   "outputs": [],
   "source": [
    "5. How do you write a string of newlines if you don't want to use the n character?\n",
    "\n",
    "Using Print\n",
    "\n",
    "print(\"Hello World\")\n",
    "print(\"Welcome to Guru99 Tutorials\")"
   ]
  },
  {
   "cell_type": "code",
   "execution_count": null,
   "id": "d2714e1e",
   "metadata": {},
   "outputs": [],
   "source": [
    "6. What are the values of the given expressions?\n",
    "'Hello, world!'[1]-------->'H'\n",
    "'Hello, world!'[0:5]------>'Hello'\n",
    "'Hello, world!'[:5]------->'Hello'\n",
    "'Hello, world!'[3:]------->'lo, world!'\n",
    "\n"
   ]
  },
  {
   "cell_type": "code",
   "execution_count": null,
   "id": "7ceb85fd",
   "metadata": {},
   "outputs": [],
   "source": [
    "7. What are the values of the following expressions?\n",
    "'Hello'.upper()----------->'HELLO'\n",
    "'Hello'.upper().isupper()->True\n",
    "'Hello'.upper().lower()--->False\n"
   ]
  },
  {
   "cell_type": "code",
   "execution_count": null,
   "id": "34697153",
   "metadata": {},
   "outputs": [],
   "source": [
    "8. What are the values of the following expressions?\n",
    "'Remember, remember, the fifth of July.'.split()----->['Remember,', 'remember,', 'the', 'fifth', 'of', 'July.']\n",
    "'-'.join('There can only one.'.split())------->There-can-only-one.\n"
   ]
  },
  {
   "cell_type": "code",
   "execution_count": null,
   "id": "c035d096",
   "metadata": {},
   "outputs": [],
   "source": [
    "9. What are the methods for right-justifying, left-justifying, and centering a string?\n",
    "\n",
    "str.ljust(s, width[, fillchar])\n",
    "str.rjust(s, width[, fillchar])\n",
    "str.center(s, width[, fillchar])"
   ]
  },
  {
   "cell_type": "code",
   "execution_count": null,
   "id": "03b726ee",
   "metadata": {},
   "outputs": [],
   "source": [
    "10. What is the best way to remove whitespace characters from the start or end?\n",
    "\n",
    "The Python String strip() method is part of the built-in function available in python. The function will remove given characters from the start and end of the original string.\n",
    "This function is very helpful in removing the whitespaces at the start and end of the given string"
   ]
  }
 ],
 "metadata": {
  "kernelspec": {
   "display_name": "Python 3 (ipykernel)",
   "language": "python",
   "name": "python3"
  },
  "language_info": {
   "codemirror_mode": {
    "name": "ipython",
    "version": 3
   },
   "file_extension": ".py",
   "mimetype": "text/x-python",
   "name": "python",
   "nbconvert_exporter": "python",
   "pygments_lexer": "ipython3",
   "version": "3.9.7"
  }
 },
 "nbformat": 4,
 "nbformat_minor": 5
}
