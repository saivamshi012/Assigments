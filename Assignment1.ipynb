{
 "cells": [
  {
   "cell_type": "raw",
   "id": "f60fe539",
   "metadata": {},
   "source": [
    "1. In the below elements which of them are values or an expression? eg:- values can be\n",
    "integer or string and expressions will be mathematical operators.\n",
    "* :-Expression\n",
    "\n",
    "'hello':-value\n",
    "\n",
    "-87.8:- value\n",
    "\n",
    "- :- Expression\n",
    "\n",
    "/ :- Expression\n",
    "\n",
    "+ :- Expression\n",
    "\n",
    "6 :- Value"
   ]
  },
  {
   "cell_type": "raw",
   "id": "0f891443",
   "metadata": {},
   "source": [
    "2. What is the difference between string and variable?\n",
    "\n",
    "A string is a data type which holds group of characters.\n",
    "\n",
    "A Variable is a name given to the memory which is allocated to store the value."
   ]
  },
  {
   "cell_type": "raw",
   "id": "da1eae52",
   "metadata": {},
   "source": [
    "3. Describe three different data types.\n",
    "\n",
    "Numeric Data types:\n",
    "    Numeric Data types are data types which has numeric values.This Numeric data types are again divided into 3 parts they are:\n",
    "        1.Integer: Integers contains positive and negative whole numbers without fractions.\n",
    "        2.Float: Float consists of decimal values.\n",
    "        3.Complex: Complex numbers consists of two parts real part+ (imaginary part)j. Ex:- 2+3j"
   ]
  },
  {
   "cell_type": "raw",
   "id": "0beffd58",
   "metadata": {},
   "source": [
    "4. What is an expression made up of? What do all expressions do?\n",
    "\n",
    "An expression is made up of operators and operands. An expression are made to build an equation."
   ]
  },
  {
   "cell_type": "code",
   "execution_count": null,
   "id": "edc8cb60",
   "metadata": {},
   "outputs": [],
   "source": [
    "5. This assignment statements, like spam = 10. What is the difference between an\n",
    "expression and a statement?\n",
    "\n",
    "A statement is an instruction that python executes.An expression is a statement which returns a value."
   ]
  },
  {
   "cell_type": "code",
   "execution_count": null,
   "id": "dd3049ae",
   "metadata": {},
   "outputs": [],
   "source": [
    "6. After running the following code, what does the variable bacon contain?\n",
    "bacon = 22\n",
    "bacon + 1\n",
    "\n",
    "bacon contains only 22 because below incremented variable is not assigned to anything so, it remains as 22 only."
   ]
  },
  {
   "cell_type": "code",
   "execution_count": null,
   "id": "626b4811",
   "metadata": {},
   "outputs": [],
   "source": [
    "7. What should the values of the following two terms be?\n",
    "\"spam\" + \"spamspam\":-  It returns spamspamspam because you are concatinating two strings using + operator\n",
    "\"spam\"* 3          :-  It returns spamspamspam ,whenever we multiply with a string it returns the string multiples like \n",
    "\"the\"*2:- thethe"
   ]
  },
  {
   "cell_type": "code",
   "execution_count": null,
   "id": "cfca9cc2",
   "metadata": {},
   "outputs": [],
   "source": [
    "8. Why is eggs a valid variable name while 100 is invalid?\n",
    "\n",
    "According to the naming convention ,variable naming should have combination of letters(could be lower-case or upper-case) or digits"
   ]
  },
  {
   "cell_type": "code",
   "execution_count": null,
   "id": "06edfd6f",
   "metadata": {},
   "outputs": [],
   "source": [
    "9.What three functions can be used to get the integer, floating-point number, or string\n",
    "version of a value?\n",
    "\n",
    "int(),float() and str()"
   ]
  },
  {
   "cell_type": "code",
   "execution_count": null,
   "id": "a63257dd",
   "metadata": {},
   "outputs": [],
   "source": [
    "10. Why does this expression cause an error? How can you fix it  'I have eaten'+99+'burritos' ?\n",
    "\n",
    " Answer:- 'I have eaten'+\"99\"+'burritos' \n"
   ]
  }
 ],
 "metadata": {
  "kernelspec": {
   "display_name": "Python 3 (ipykernel)",
   "language": "python",
   "name": "python3"
  },
  "language_info": {
   "codemirror_mode": {
    "name": "ipython",
    "version": 3
   },
   "file_extension": ".py",
   "mimetype": "text/x-python",
   "name": "python",
   "nbconvert_exporter": "python",
   "pygments_lexer": "ipython3",
   "version": "3.9.7"
  }
 },
 "nbformat": 4,
 "nbformat_minor": 5
}
