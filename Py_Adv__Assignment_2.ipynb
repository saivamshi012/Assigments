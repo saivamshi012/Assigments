{
  "nbformat": 4,
  "nbformat_minor": 0,
  "metadata": {
    "colab": {
      "name": "Py_Adv_ Assignment_2.ipynb",
      "provenance": []
    },
    "kernelspec": {
      "name": "python3",
      "display_name": "Python 3"
    },
    "language_info": {
      "name": "python"
    }
  },
  "cells": [
    {
      "cell_type": "code",
      "execution_count": null,
      "metadata": {
        "id": "6JftR_ncBWC5"
      },
      "outputs": [],
      "source": [
        "1. Write a function that takes a positive integer num and calculates how many dots exist in a pentagonal shape around the center dot on the Nth iteration.\n",
        "\n",
        "In the image below you can see the first iteration is only a single dot. On the second, there are 6 dots. On the third, there are 16 dots, and on the fourth there are 31 dots.\n",
        "\n",
        "\n",
        "\n",
        "\n",
        "\n",
        "\n",
        "\n",
        "\n",
        "Return the number of dots that exist in the whole pentagon on the Nth iteration.\n",
        "\n",
        "Examples\n",
        "\n",
        "pentagonal(1) ➞ 1\n",
        "\n",
        "pentagonal(2) ➞ 6\n",
        "\n",
        "pentagonal(3) ➞ 16\n",
        "\n",
        "pentagonal(8) ➞ 141\n",
        "\n",
        "\n",
        "\n"
      ]
    },
    {
      "cell_type": "code",
      "source": [
        "def pentagonal(n):\n",
        "  return round((5*n**2-5*n+2)/2)\n",
        "pentagonal(3)"
      ],
      "metadata": {
        "colab": {
          "base_uri": "https://localhost:8080/"
        },
        "id": "FOpAOLM2BnMf",
        "outputId": "8d181851-f5f4-48bd-c607-4b43bfefb6b4"
      },
      "execution_count": 31,
      "outputs": [
        {
          "output_type": "execute_result",
          "data": {
            "text/plain": [
              "16"
            ]
          },
          "metadata": {},
          "execution_count": 31
        }
      ]
    },
    {
      "cell_type": "code",
      "source": [
        "2.  Make a function that encrypts a given input with these steps:\n",
        "\n",
        "Input: \"apple\"\n",
        "\n",
        "Step 1: Reverse the input: \"elppa\"\n",
        "\n",
        "Step 2: Replace all vowels using the following chart:\n",
        "\n",
        "a => 0\n",
        "e => 1\n",
        "i => 2\n",
        "o => 2\n",
        "u => 3\n",
        "\n",
        "# \"1lpp0\"\n",
        "\n",
        "Step 3: Add \"aca\" to the end of the word: \"1lpp0aca\"\n",
        "\n",
        "Output: \"1lpp0aca\"\n",
        "\n",
        "Examples\n",
        "\n",
        "encrypt(\"banana\") ➞ \"0n0n0baca\"\n",
        "\n",
        "encrypt(\"karaca\") ➞ \"0c0r0kaca\"\n",
        "\n",
        "encrypt(\"burak\") ➞ \"k0r3baca\"\n",
        "\n",
        "encrypt(\"alpaca\") ➞ \"0c0pl0aca\"\n",
        "\n"
      ],
      "metadata": {
        "id": "wk0BmQ0NBgvh"
      },
      "execution_count": null,
      "outputs": []
    },
    {
      "cell_type": "code",
      "source": [
        "vow={\"a\":0,\"e\":1,\"i\":2,\"o\":2,\"u\":3}\n",
        "v=\"aeiou\"\n",
        "def encrypt(string):\n",
        "  enc=\"\"\n",
        "  for i in string:\n",
        "    if i in v:\n",
        "      enc+=str(vow[i])\n",
        "    else:\n",
        "      enc+=i\n",
        "  return enc[::-1]+\"aca\"\n",
        "encrypt(\"karaca\")"
      ],
      "metadata": {
        "colab": {
          "base_uri": "https://localhost:8080/",
          "height": 35
        },
        "id": "rqCduXrcCvz4",
        "outputId": "ce0f4104-1743-46dd-9fbb-29ecf9f4ee30"
      },
      "execution_count": null,
      "outputs": [
        {
          "output_type": "execute_result",
          "data": {
            "application/vnd.google.colaboratory.intrinsic+json": {
              "type": "string"
            },
            "text/plain": [
              "'0c0r0kaca'"
            ]
          },
          "metadata": {},
          "execution_count": 14
        }
      ]
    },
    {
      "cell_type": "code",
      "source": [
        "3. Given the month and year as numbers, return whether that month contains a Friday 13th.(i.e You can check Python's datetime module)\n",
        "\n",
        "Examples\n",
        "\n",
        "has_friday_13(3, 2020) ➞ True\n",
        "\n",
        "has_friday_13(10, 2017) ➞ True\n",
        "\n",
        "has_friday_13(1, 1985) ➞ False\n",
        "\n",
        "\n",
        "\n"
      ],
      "metadata": {
        "id": "nQsDCZZPBi67"
      },
      "execution_count": null,
      "outputs": []
    },
    {
      "cell_type": "code",
      "source": [
        "import datetime\n",
        "def has_friday_13(month,year):\n",
        "  if datetime.datetime.strptime('13'+' '+str(month)+' '+str(year), '%d %m %Y').weekday()==4 :\n",
        "    return True\n",
        "  else:\n",
        "    return False\n",
        "has_friday_13(10, 2017)"
      ],
      "metadata": {
        "id": "Vmp0R16HdbM4",
        "colab": {
          "base_uri": "https://localhost:8080/"
        },
        "outputId": "6ea215a1-16d2-452c-aac4-a3704c6981e0"
      },
      "execution_count": null,
      "outputs": [
        {
          "output_type": "execute_result",
          "data": {
            "text/plain": [
              "True"
            ]
          },
          "metadata": {},
          "execution_count": 9
        }
      ]
    },
    {
      "cell_type": "code",
      "source": [
        "4. Write a regular expression that will help us count how many bad cookies are produced every day. You must use RegEx negative lookbehind.\n",
        "\n",
        "Example\n",
        "\n",
        "lst = [\"bad cookie\", \"good cookie\", \"bad cookie\", \"good cookie\", \"good cookie\"]\n",
        "pattern = \"yourregularexpressionhere\"\n",
        "\n",
        "len(re.findall(pattern, \", \".join(lst))) ➞ 2\n",
        "\n"
      ],
      "metadata": {
        "id": "dZY_vLKSBk8y"
      },
      "execution_count": null,
      "outputs": []
    },
    {
      "cell_type": "code",
      "source": [
        "import re\n",
        "lst = [\"bad cookie\", \"good cookie\", \"bad cookie\", \"good cookie\", \"good cookie\"]\n",
        "pattern =re.compile(\"bad(?=\\scookie)\")\n",
        "len(re.findall(pattern, \", \".join(lst)))"
      ],
      "metadata": {
        "id": "dhJBO09ppQmB",
        "colab": {
          "base_uri": "https://localhost:8080/"
        },
        "outputId": "a6393e23-d044-4eb8-fbb5-49e339fbd4e0"
      },
      "execution_count": null,
      "outputs": [
        {
          "output_type": "execute_result",
          "data": {
            "text/plain": [
              "2"
            ]
          },
          "metadata": {},
          "execution_count": 2
        }
      ]
    },
    {
      "cell_type": "code",
      "source": [
        "5. Given a list of words in the singular form, return a set of those words in the plural form if they appear more than once in the list.\n",
        "\n",
        "Examples\n",
        "\n",
        "pluralize([\"cow\", \"pig\", \"cow\", \"cow\"]) ➞ { \"cows\", \"pig\" }\n",
        "\n",
        "pluralize([\"table\", \"table\", \"table\"]) ➞ { \"tables\" }\n",
        "\n",
        "pluralize([\"chair\", \"pencil\", \"arm\"]) ➞ { \"chair\", \"pencil\", \"arm\" }\n"
      ],
      "metadata": {
        "id": "AWJwhro5BmGi"
      },
      "execution_count": null,
      "outputs": []
    },
    {
      "cell_type": "code",
      "source": [
        "def pluralize(l):\n",
        "  r=zip([l.count(i) for i in l],l)\n",
        "  p=[i for i in r]\n",
        "  s=[i[1]+\"s\" if i[0]>1 else i[1] for i in p]\n",
        "  return set(s)\n",
        "pluralize([\"cow\", \"pig\", \"cow\", \"cow\"])"
      ],
      "metadata": {
        "colab": {
          "base_uri": "https://localhost:8080/"
        },
        "id": "GV3zOEPA1baM",
        "outputId": "a2cb58f2-8213-4660-9990-3beeefac2c38"
      },
      "execution_count": 30,
      "outputs": [
        {
          "output_type": "execute_result",
          "data": {
            "text/plain": [
              "{'cows', 'pig'}"
            ]
          },
          "metadata": {},
          "execution_count": 30
        }
      ]
    }
  ]
}