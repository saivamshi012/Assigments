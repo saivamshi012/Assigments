{
  "nbformat": 4,
  "nbformat_minor": 0,
  "metadata": {
    "colab": {
      "name": "Programming Assignment_17.ipynb",
      "provenance": [],
      "collapsed_sections": []
    },
    "kernelspec": {
      "name": "python3",
      "display_name": "Python 3"
    }
  },
  "cells": [
    {
      "cell_type": "code",
      "source": [
        "Question1. \n",
        "Create a function that takes three arguments a, b, c and returns the sum of the\n",
        "numbers that are evenly divided by c from the range a, b inclusive.\n",
        "Examples\n",
        "evenly_divisible(1, 10, 20) ➞ 0\n",
        "# No number between 1 and 10 can be evenly divided by 20.\n",
        "evenly_divisible(1, 10, 2) ➞ 30\n",
        "# 2 + 4 + 6 + 8 + 10 = 30\n",
        "evenly_divisible(1, 10, 3) ➞ 18\n",
        "# 3 + 6 + 9 = 18\n",
        "\n"
      ],
      "metadata": {
        "id": "wTDgvY5FRagc"
      },
      "execution_count": null,
      "outputs": []
    },
    {
      "cell_type": "code",
      "source": [
        "def evenly_divisible(a,b,c):\n",
        "  sum=0\n",
        "  for i in range(a,b+1):\n",
        "    if i%c==0:\n",
        "      sum=sum+i\n",
        "    else:\n",
        "      pass\n",
        "  return sum\n",
        "print(evenly_divisible(1, 10, 20))\n",
        "print(evenly_divisible(1, 10, 2) )\n",
        "print(evenly_divisible(1, 10, 3))"
      ],
      "metadata": {
        "colab": {
          "base_uri": "https://localhost:8080/"
        },
        "id": "SNDS3bsKRj5h",
        "outputId": "a979f61d-85cf-4127-b5a9-cfbf2bd20c0c"
      },
      "execution_count": null,
      "outputs": [
        {
          "output_type": "stream",
          "name": "stdout",
          "text": [
            "0\n",
            "30\n",
            "18\n"
          ]
        }
      ]
    },
    {
      "cell_type": "code",
      "source": [
        "Question2. Create a function that returns True if a given inequality expression is correct and\n",
        "False otherwise.\n",
        "Examples\n",
        "correct_signs(\"3 < 7 < 11\") ➞ True\n",
        "correct_signs(\"13 > 44 > 33 > 1\") ➞ False\n",
        "correct_signs(\"1 < 2 < 6 < 9 > 3\") ➞ True\n",
        "\n"
      ],
      "metadata": {
        "id": "gES0ba4oRdAK"
      },
      "execution_count": null,
      "outputs": []
    },
    {
      "cell_type": "code",
      "source": [
        ""
      ],
      "metadata": {
        "id": "3iF_0hOyRkid"
      },
      "execution_count": null,
      "outputs": []
    },
    {
      "cell_type": "code",
      "source": [
        "Question3. Create a function that replaces all the vowels in a string with a specified character.\n",
        "Examples\n",
        "replace_vowels(\"the aardvark\" ,\"#\") ➞ \"th# ##rdv#rk\"\n",
        "replace_vowels(\"minnie mouse\", \"?\") ➞ \"m?nn?? m??s?\"\n",
        "replace_vowels(\"shakespeare\",*) ➞ \"sh*k*sp**r*\"\n",
        "\n"
      ],
      "metadata": {
        "id": "1HPTqIkkRe-c"
      },
      "execution_count": null,
      "outputs": []
    },
    {
      "cell_type": "code",
      "source": [
        "def replace_vowels(test_str,K):\n",
        "  vowels = 'AEIOUaeiou'\n",
        "  for ele in vowels:\n",
        "    test_str = test_str.replace(ele, K)\n",
        "  return test_str\n",
        "replace_vowels(\"the aardvark\" ,\"#\")\n"
      ],
      "metadata": {
        "colab": {
          "base_uri": "https://localhost:8080/",
          "height": 35
        },
        "id": "DJuUYYrVRlAN",
        "outputId": "f833730a-78b8-421f-9134-b18fccb7945d"
      },
      "execution_count": null,
      "outputs": [
        {
          "output_type": "execute_result",
          "data": {
            "application/vnd.google.colaboratory.intrinsic+json": {
              "type": "string"
            },
            "text/plain": [
              "'th# ##rdv#rk'"
            ]
          },
          "metadata": {},
          "execution_count": 19
        }
      ]
    },
    {
      "cell_type": "code",
      "source": [
        "Question4. Write a function that calculates the factorial of a number recursively.\n",
        "Examples\n",
        "factorial(5) ➞ 120\n",
        "factorial(3) ➞ 6\n",
        "factorial(1) ➞ 1\n",
        "factorial(0) ➞ 1\n",
        "\n"
      ],
      "metadata": {
        "id": "96vOcQdtRgo5"
      },
      "execution_count": null,
      "outputs": []
    },
    {
      "cell_type": "code",
      "source": [
        "def factorial(n):\n",
        "  if n==1:\n",
        "    return n\n",
        "  else:\n",
        "    return n*factorial(n-1)\n",
        "factorial(3)"
      ],
      "metadata": {
        "id": "mr500N56RlgQ",
        "colab": {
          "base_uri": "https://localhost:8080/"
        },
        "outputId": "b44a8d1c-16d9-4b72-a1d1-7cb2f5123d60"
      },
      "execution_count": 1,
      "outputs": [
        {
          "output_type": "execute_result",
          "data": {
            "text/plain": [
              "6"
            ]
          },
          "metadata": {},
          "execution_count": 1
        }
      ]
    },
    {
      "cell_type": "code",
      "source": [
        "Question 5\n",
        "Hamming distance is the number of characters that differ between two strings.\n",
        "To illustrate:\n",
        "String1:abcbba\n",
        "String2: abcbda\n",
        "Hamming Distance: 1 - b vs. d is the only difference.\n",
        "Create a function that computes the hamming distance between two strings.\n",
        "Examples\n",
        "hamming_distance(\"abcde\", \"bcdef\") ➞ 5\n",
        "hamming_distance(\"abcde\", \"abcde\") ➞ 0\n",
        "hamming_distance(\"strong\" ,\"strung\") ➞ 1"
      ],
      "metadata": {
        "id": "MSDPf01-RihE"
      },
      "execution_count": null,
      "outputs": []
    },
    {
      "cell_type": "code",
      "source": [
        "def hamming_distance(s1,s2):\n",
        "  i,c=0,0\n",
        "  while(i < len(s1)):\n",
        "        if(s1[i] != s2[i]):\n",
        "            c += 1\n",
        "        i += 1\n",
        "  return c\n",
        "hamming_distance(\"abcde\", \"bcdef\")"
      ],
      "metadata": {
        "id": "kvZ9FB74RmCV",
        "colab": {
          "base_uri": "https://localhost:8080/"
        },
        "outputId": "2835b03e-2b2a-4728-cd10-c03251d70073"
      },
      "execution_count": 5,
      "outputs": [
        {
          "output_type": "execute_result",
          "data": {
            "text/plain": [
              "5"
            ]
          },
          "metadata": {},
          "execution_count": 5
        }
      ]
    }
  ]
}