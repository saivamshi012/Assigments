{
  "nbformat": 4,
  "nbformat_minor": 0,
  "metadata": {
    "colab": {
      "name": "Programming Assignment_6.ipynb",
      "provenance": []
    },
    "kernelspec": {
      "name": "python3",
      "display_name": "Python 3"
    },
    "language_info": {
      "name": "python"
    }
  },
  "cells": [
    {
      "cell_type": "code",
      "execution_count": null,
      "metadata": {
        "id": "JbUmRoPtyyjr"
      },
      "outputs": [],
      "source": [
        "1. Write a Python Program to Display Fibonacci Sequence Using Recursion?\n"
      ]
    },
    {
      "cell_type": "code",
      "source": [
        "def FibRec(a):  \n",
        "\n",
        "   if a <= 1:  \n",
        "\n",
        "       return a  \n",
        "\n",
        "   else:  \n",
        "\n",
        "       return(FibRec(a-1) + FibRec(a-2))  \n",
        "\n",
        "aterms = int(input(\"Enter the terms? \")) \n",
        "\n",
        "  \n",
        "if aterms <= 0:  \n",
        "\n",
        "   print(\"Please enter a positive integer\")  \n",
        "\n",
        "else:  \n",
        "\n",
        "   print(\"Fibonacci sequence:\")  \n",
        "\n",
        "   for z in range(aterms):  \n",
        "\n",
        "       print(FibRec(z))"
      ],
      "metadata": {
        "colab": {
          "base_uri": "https://localhost:8080/"
        },
        "id": "JNLybmMSzAK8",
        "outputId": "40aec23f-daf8-479c-cfda-71ace9a57699"
      },
      "execution_count": 2,
      "outputs": [
        {
          "output_type": "stream",
          "name": "stdout",
          "text": [
            "Enter the terms? 5\n",
            "Fibonacci sequence:\n",
            "0\n",
            "1\n",
            "1\n",
            "2\n",
            "3\n"
          ]
        }
      ]
    },
    {
      "cell_type": "code",
      "source": [
        "2. Write a Python Program to Find Factorial of Number Using Recursion?\n"
      ],
      "metadata": {
        "id": "bI7PlDMEy5R0"
      },
      "execution_count": null,
      "outputs": []
    },
    {
      "cell_type": "code",
      "source": [
        "def recursive_factorial(n):\n",
        "  if n == 1:\n",
        "     return n\n",
        "  else:\n",
        "     return n*recursive_factorial(n-1)\n",
        "number = int(input(\"User Input : \"))\n",
        "print(\"The factorial of\", number, \"is\", recursive_factorial(number))"
      ],
      "metadata": {
        "colab": {
          "base_uri": "https://localhost:8080/"
        },
        "id": "B2pdwU_8zkEm",
        "outputId": "abcc1573-302b-4807-a49d-ab39ca73f76e"
      },
      "execution_count": 3,
      "outputs": [
        {
          "output_type": "stream",
          "name": "stdout",
          "text": [
            "User Input : 6\n",
            "The factorial of 6 is 720\n"
          ]
        }
      ]
    },
    {
      "cell_type": "code",
      "source": [
        "3. Write a Python Program to calculate your Body Mass Index?\n"
      ],
      "metadata": {
        "id": "aZKJ9kc2y6u5"
      },
      "execution_count": null,
      "outputs": []
    },
    {
      "cell_type": "code",
      "source": [
        "height = float(input(\"Enter your height in cm: \"))\n",
        "weight = float(input(\"Enter your weight in kg: \"))\n",
        "BMI = weight / (height/100)**2\n",
        "print(\"Your BMI is\",BMI)"
      ],
      "metadata": {
        "colab": {
          "base_uri": "https://localhost:8080/"
        },
        "id": "HIZ_jE7W0V0Y",
        "outputId": "981b0918-022a-4b66-b622-25e797d3b1b1"
      },
      "execution_count": 4,
      "outputs": [
        {
          "output_type": "stream",
          "name": "stdout",
          "text": [
            "Enter your height in cm: 182\n",
            "Enter your weight in kg: 64\n",
            "Your BMI is 19.32133800265668\n"
          ]
        }
      ]
    },
    {
      "cell_type": "code",
      "source": [
        "4. Write a Python Program to calculate the natural logarithm of any number?\n"
      ],
      "metadata": {
        "id": "n6Fj78Pry8su"
      },
      "execution_count": null,
      "outputs": []
    },
    {
      "cell_type": "code",
      "source": [
        "import math   \n",
        "\n",
        "n=int(input(\"enter any value\"))\n",
        "print(\"Log value: \", math.log(n))"
      ],
      "metadata": {
        "colab": {
          "base_uri": "https://localhost:8080/"
        },
        "id": "l0LSXZYR2Owu",
        "outputId": "f3e712e7-d9b3-4366-c139-a6e511af7019"
      },
      "execution_count": 7,
      "outputs": [
        {
          "output_type": "stream",
          "name": "stdout",
          "text": [
            "enter any value6\n",
            "Log value:  1.791759469228055\n"
          ]
        }
      ]
    },
    {
      "cell_type": "code",
      "source": [
        "5. Write a Python Program for cube sum of first n natural numbers?"
      ],
      "metadata": {
        "id": "ifvTfc5uy-CZ"
      },
      "execution_count": null,
      "outputs": []
    },
    {
      "cell_type": "code",
      "source": [
        "n=int(input(\"enter any value\"))\n",
        "x = (n * (n + 1)  / 2)\n",
        "print(int(x*x))"
      ],
      "metadata": {
        "colab": {
          "base_uri": "https://localhost:8080/"
        },
        "id": "DgehhpZX2nN-",
        "outputId": "e1e8b4a3-82fa-4fa1-ee58-66b5aa8c484c"
      },
      "execution_count": 8,
      "outputs": [
        {
          "output_type": "stream",
          "name": "stdout",
          "text": [
            "enter any value3\n",
            "36\n"
          ]
        }
      ]
    }
  ]
}