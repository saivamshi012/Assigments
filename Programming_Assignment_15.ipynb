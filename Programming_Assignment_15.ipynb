{
  "nbformat": 4,
  "nbformat_minor": 0,
  "metadata": {
    "colab": {
      "name": "Programming Assignment_15.ipynb",
      "provenance": [],
      "collapsed_sections": []
    },
    "kernelspec": {
      "name": "python3",
      "display_name": "Python 3"
    }
  },
  "cells": [
    {
      "cell_type": "code",
      "source": [
        "Question 1:\n",
        "Please write a program using generator to print the numbers which can be divisible by 5 and\n",
        "7 between 0 and n in comma separated form while n is input by console.\n",
        "Example:\n",
        "If the following n is given as input to the program:\n",
        "100\n",
        "Then, the output of the program should be:\n",
        "0,35,70\n",
        "\n"
      ],
      "metadata": {
        "id": "4D0zUsHb-hRj"
      },
      "execution_count": null,
      "outputs": []
    },
    {
      "cell_type": "code",
      "source": [
        "n1=int(input())\n",
        "nl=[]\n",
        "for x in range(0,n1):\n",
        "    if (x%7==0) and (x%5==0):\n",
        "        nl.append(str(x))\n",
        "print(','.join(nl))"
      ],
      "metadata": {
        "colab": {
          "base_uri": "https://localhost:8080/"
        },
        "id": "H78Lq48O-58u",
        "outputId": "4ebfef18-c994-4e65-b442-8024403dcb7f"
      },
      "execution_count": null,
      "outputs": [
        {
          "output_type": "stream",
          "name": "stdout",
          "text": [
            "100\n",
            "0,35,70\n"
          ]
        }
      ]
    },
    {
      "cell_type": "code",
      "source": [
        "Question 2:\n",
        "Please write a program using generator to print the even numbers between 0 and n in comma\n",
        "separated form while n is input by console.\n",
        "Example:\n",
        "If the following n is given as input to the program:\n",
        "10\n",
        "Then, the output of the program should be:\n",
        "0,2,4,6,8,10\n",
        "\n"
      ],
      "metadata": {
        "id": "xz7ITkqd-zX9"
      },
      "execution_count": null,
      "outputs": []
    },
    {
      "cell_type": "code",
      "source": [
        "n1=int(input())\n",
        "nl=[]\n",
        "for x in range(0,n1+1):\n",
        "    if (x%2==0):\n",
        "        nl.append(str(x))\n",
        "print(','.join(nl))\n"
      ],
      "metadata": {
        "colab": {
          "base_uri": "https://localhost:8080/"
        },
        "id": "VI5vTjC9AcZO",
        "outputId": "97d10905-a185-427a-f723-56a33010fa5e"
      },
      "execution_count": null,
      "outputs": [
        {
          "output_type": "stream",
          "name": "stdout",
          "text": [
            "10\n",
            "0,2,4,6,8,10\n"
          ]
        }
      ]
    },
    {
      "cell_type": "code",
      "source": [
        "Question 3:\n",
        "The Fibonacci Sequence is computed based on the following formula:\n",
        "f(n)=0 if n=0\n",
        "f(n)=1 if n=1\n",
        "f(n)=f(n-1)+f(n-2) if n>1\n",
        "Please write a program using list comprehension to print the Fibonacci Sequence in comma\n",
        "separated form with a given n input by console.\n",
        "Example:\n",
        "If the following n is given as input to the program:\n",
        "7\n",
        "\n",
        "Then, the output of the program should be:\n",
        "0,1,1,2,3,5,8,13\n",
        "\n"
      ],
      "metadata": {
        "id": "9hUbL3rt-05R"
      },
      "execution_count": null,
      "outputs": []
    },
    {
      "cell_type": "code",
      "source": [
        "n=int(input(\"nterms\"))\n",
        "a=0\n",
        "b=1\n",
        "c=[]\n",
        "for i in range(0,n):\n",
        "  if i<=1:\n",
        "    sum=i\n",
        "  else:\n",
        "    sum=a+b\n",
        "    a=b\n",
        "    b=sum\n",
        "  c.append(str(sum))\n",
        "print(','.join(c))\n"
      ],
      "metadata": {
        "colab": {
          "base_uri": "https://localhost:8080/"
        },
        "id": "Ul5axjb-uRGj",
        "outputId": "cd479e09-323d-4cb2-d78c-f22ed09a7699"
      },
      "execution_count": null,
      "outputs": [
        {
          "output_type": "stream",
          "name": "stdout",
          "text": [
            "nterms3\n",
            "0,1,1\n"
          ]
        }
      ]
    },
    {
      "cell_type": "code",
      "source": [
        "Question 4:\n",
        "Assuming that we have some email addresses in the \"username@companyname.com\" format,\n",
        "please write program to print the user name of a given email address. Both user names and\n",
        "company names are composed of letters only.\n",
        "Example:\n",
        "If the following email address is given as input to the program:\n",
        "john@google.com\n",
        "Then, the output of the program should be:\n",
        "john\n",
        "\n"
      ],
      "metadata": {
        "id": "DSjRflNM-2wK"
      },
      "execution_count": null,
      "outputs": []
    },
    {
      "cell_type": "code",
      "source": [
        "string=\"username@companyname.com\"\n",
        "word=string.split(\"@\")\n",
        "print(word[0])"
      ],
      "metadata": {
        "colab": {
          "base_uri": "https://localhost:8080/"
        },
        "id": "W-_kk87mxuP_",
        "outputId": "9d12c35a-5ba3-41a4-f0b5-7d8954545ca2"
      },
      "execution_count": null,
      "outputs": [
        {
          "output_type": "stream",
          "name": "stdout",
          "text": [
            "username\n"
          ]
        }
      ]
    },
    {
      "cell_type": "code",
      "source": [
        "Question 5:\n",
        "Define a class named Shape and its subclass Square. The Square class has an init function\n",
        "which takes a length as argument. Both classes have a area function which can print the area\n",
        "of the shape where Shapes area is 0 by default."
      ],
      "metadata": {
        "id": "rKvfKTEC-4y2"
      },
      "execution_count": null,
      "outputs": []
    },
    {
      "cell_type": "code",
      "source": [
        "class Circle():\n",
        "    def __init__(self,r):\n",
        "        self.radius = r\n",
        "\n",
        "    def area(self):\n",
        "        return 3.1416*(self.radius**2)\n",
        "\n",
        "\n",
        "circle = Circle(5)\n",
        "print(circle.area())"
      ],
      "metadata": {
        "id": "6DpafYCDzMHR",
        "outputId": "6c88d973-8c55-4ee2-aac0-68e8ced04e20",
        "colab": {
          "base_uri": "https://localhost:8080/"
        }
      },
      "execution_count": 8,
      "outputs": [
        {
          "output_type": "stream",
          "name": "stdout",
          "text": [
            "78.53999999999999\n"
          ]
        }
      ]
    }
  ]
}