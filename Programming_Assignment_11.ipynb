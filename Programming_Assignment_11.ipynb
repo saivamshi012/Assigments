{
  "nbformat": 4,
  "nbformat_minor": 0,
  "metadata": {
    "colab": {
      "name": "Programming Assignment_11.ipynb",
      "provenance": []
    },
    "kernelspec": {
      "name": "python3",
      "display_name": "Python 3"
    },
    "language_info": {
      "name": "python"
    }
  },
  "cells": [
    {
      "cell_type": "code",
      "execution_count": null,
      "metadata": {
        "id": "yAA-ejsUJX7Y"
      },
      "outputs": [],
      "source": [
        "1. Write a Python program to find words which are greater than given length k?\n"
      ]
    },
    {
      "cell_type": "code",
      "source": [
        "s=input(\"enter a sentence\")\n",
        "k=int(input(\"enter a length\"))\n",
        "word=s.split()\n",
        "for i in word:\n",
        "  if len(i)>k:\n",
        "    print(i)"
      ],
      "metadata": {
        "colab": {
          "base_uri": "https://localhost:8080/"
        },
        "id": "pH3hFNIZJxoB",
        "outputId": "a6ba3c9a-c914-4740-96b2-f4154079c136"
      },
      "execution_count": null,
      "outputs": [
        {
          "output_type": "stream",
          "name": "stdout",
          "text": [
            "enter a sentencehelo hdhsdts h\n",
            "enter a length3\n",
            "helo\n",
            "hdhsdts\n"
          ]
        }
      ]
    },
    {
      "cell_type": "code",
      "source": [
        "2. Write a Python program for removing i-th character from a string?\n"
      ],
      "metadata": {
        "id": "lnsLTQDPJpUK"
      },
      "execution_count": null,
      "outputs": []
    },
    {
      "cell_type": "code",
      "source": [
        "n=\"hello\"\n",
        "i=int(input(\"enter index to remove\"))\n",
        "string=''\n",
        "for index in range(len(n)):\n",
        "  if index!=i:\n",
        "    string=string+n[index]\n",
        "print(\"String after eleminating ith character\",string)\n",
        "    "
      ],
      "metadata": {
        "id": "Cx8hto7WLjLy",
        "colab": {
          "base_uri": "https://localhost:8080/"
        },
        "outputId": "3bab664b-6c3e-4e6c-e034-43d2325473ee"
      },
      "execution_count": null,
      "outputs": [
        {
          "output_type": "stream",
          "name": "stdout",
          "text": [
            "enter index to remove2\n",
            "String after eleminating ith character helo\n"
          ]
        }
      ]
    },
    {
      "cell_type": "code",
      "source": [
        "3. Write a Python program to split and join a string?\n"
      ],
      "metadata": {
        "id": "wdS-hF6dJqyY"
      },
      "execution_count": null,
      "outputs": []
    },
    {
      "cell_type": "code",
      "source": [
        "n=\"Hello\"\n",
        "word=n.split()\n",
        "print(word)\n",
        "words=\"Vamshi\".join(n)\n",
        "print(words)"
      ],
      "metadata": {
        "colab": {
          "base_uri": "https://localhost:8080/"
        },
        "id": "qRWnEhzR64S0",
        "outputId": "fc36fdc5-e60f-4ac7-be90-327745fb888e"
      },
      "execution_count": null,
      "outputs": [
        {
          "output_type": "stream",
          "name": "stdout",
          "text": [
            "['Hello']\n",
            "HVamshieVamshilVamshilVamshio\n"
          ]
        }
      ]
    },
    {
      "cell_type": "code",
      "source": [
        "4. Write a Python to check if a given string is binary string or not?\n"
      ],
      "metadata": {
        "id": "9J1QMj4hJrz4"
      },
      "execution_count": null,
      "outputs": []
    },
    {
      "cell_type": "code",
      "source": [
        "b=\"Hi110101\"\n",
        "s={\"0\",\"1\"}\n",
        "if s==set(b) or set(b)=={\"0\"} or set(b)=={\"1\"}:\n",
        "  print(\"Binary string\")\n",
        "else:\n",
        "  print(\"Not a Binary string\")\n"
      ],
      "metadata": {
        "colab": {
          "base_uri": "https://localhost:8080/"
        },
        "id": "DJOwWiXG7gtF",
        "outputId": "4cd3fafd-2637-4b5a-daab-b6b2580cf848"
      },
      "execution_count": null,
      "outputs": [
        {
          "output_type": "stream",
          "name": "stdout",
          "text": [
            "Not a Binary string\n"
          ]
        }
      ]
    },
    {
      "cell_type": "code",
      "source": [
        "5. Write a Python program to find uncommon words from two Strings?\n"
      ],
      "metadata": {
        "id": "eS2AYSIlJtYO"
      },
      "execution_count": null,
      "outputs": []
    },
    {
      "cell_type": "code",
      "source": [
        "a=\"this  apple is sweet\"\n",
        "b=\"this apple is sour\"\n",
        "words=\" \"\n",
        "word=set(a.split()) & set(b.split())\n",
        "for i in a.split() + b.split():\n",
        "  if i not in word:\n",
        "    words=words + \" \"+i\n",
        "print(words)\n"
      ],
      "metadata": {
        "id": "ZWrD4z1CBZPz",
        "colab": {
          "base_uri": "https://localhost:8080/"
        },
        "outputId": "e0663388-ad85-45f4-f674-c19002287aee"
      },
      "execution_count": null,
      "outputs": [
        {
          "output_type": "stream",
          "name": "stdout",
          "text": [
            "  sweet sour\n"
          ]
        }
      ]
    },
    {
      "cell_type": "code",
      "source": [
        "6. Write a Python to find all duplicate characters in string?\n"
      ],
      "metadata": {
        "id": "4On29EIuJvXO"
      },
      "execution_count": null,
      "outputs": []
    },
    {
      "cell_type": "code",
      "source": [
        "s=\"helloo\"\n",
        "word=[]\n",
        "for i in s:\n",
        "  if i not in word:\n",
        "    word.append(i)\n",
        "  else:\n",
        "    print(i,\"occured more times\")\n"
      ],
      "metadata": {
        "colab": {
          "base_uri": "https://localhost:8080/"
        },
        "id": "aCeNtVCpWMID",
        "outputId": "f01d4309-4cf4-4bb3-9a73-c69cf0717d4b"
      },
      "execution_count": null,
      "outputs": [
        {
          "output_type": "stream",
          "name": "stdout",
          "text": [
            "l occured more times\n",
            "o occured more times\n"
          ]
        }
      ]
    },
    {
      "cell_type": "code",
      "source": [
        "7. Write a Python Program to check if a string contains any special character?"
      ],
      "metadata": {
        "id": "-rFZEavSJw_G"
      },
      "execution_count": null,
      "outputs": []
    },
    {
      "cell_type": "code",
      "source": [
        "s=\"$%%%hello\"\n",
        "v='''\"!@#$%^&*(),./<>'?;:'''\n",
        "for i in s:\n",
        "  if i in v:\n",
        "    print(i)\n",
        "  "
      ],
      "metadata": {
        "colab": {
          "base_uri": "https://localhost:8080/"
        },
        "id": "WJdsD4I0aAfD",
        "outputId": "691502d6-e6a1-4fad-83eb-61e2c1d3fab5"
      },
      "execution_count": null,
      "outputs": [
        {
          "output_type": "stream",
          "name": "stdout",
          "text": [
            "$\n",
            "%\n",
            "%\n",
            "%\n"
          ]
        }
      ]
    }
  ]
}