{
 "cells": [
  {
   "cell_type": "code",
   "execution_count": null,
   "id": "13fc03b8",
   "metadata": {},
   "outputs": [],
   "source": [
    "1.What are the two values of the Boolean data type? How do you write them?\n",
    "\n",
    "Answer: True and False are two values of Boolean type. We can write them as True/False or 0/1\n"
   ]
  },
  {
   "cell_type": "code",
   "execution_count": null,
   "id": "709a174a",
   "metadata": {},
   "outputs": [],
   "source": [
    "2. What are the three different types of Boolean operators?\n",
    "\n",
    "Answer: AND ,OR and NOT are three types of Boolean operators"
   ]
  },
  {
   "cell_type": "code",
   "execution_count": null,
   "id": "d44e2367",
   "metadata": {},
   "outputs": [],
   "source": [
    "Make a list of each Boolean operators  truth tables \n",
    "(i.e. every possible combination of Boolean values for the operator and what it evaluate ).\n",
    "\n",
    "Answer:List of Boolean functions\n",
    "           AND       NAND        OR        NOR      NOT\n",
    "p q       p ∧ q   ~(p ∧ q)     p ∨ q    ~(p ∨ q)    ~p\n",
    "0 0         0        1           0          1        1\n",
    "0 1         0        1           1          0        1\n",
    "1 0         0        1           1          0        0\n",
    "1 1         1        0           1          0        0 \n"
   ]
  },
  {
   "cell_type": "code",
   "execution_count": null,
   "id": "24f7644b",
   "metadata": {},
   "outputs": [],
   "source": [
    "4. What are the values of the following expressions?\n",
    "(5 > 4) and (3 == 5)                   :False\n",
    "not (5 > 4)                            :False\n",
    "(5 > 4) or (3 == 5)                    :True \n",
    "not ((5 > 4) or (3 == 5))              :False\n",
    "(True and True) and (True == False)    :False\n",
    "(not False) or (not True)              :True\n"
   ]
  },
  {
   "cell_type": "code",
   "execution_count": null,
   "id": "9aae1fa4",
   "metadata": {},
   "outputs": [],
   "source": [
    "5. What are the six comparison operators?\n",
    "\n",
    "\n",
    "Six comparision operators:  ==,=>,<=,not equal to,<,>"
   ]
  },
  {
   "cell_type": "code",
   "execution_count": null,
   "id": "42fb9e59",
   "metadata": {},
   "outputs": [],
   "source": [
    "6. How do you tell the difference between the equal to and assignment operators?Describe a condition and when you would use one.\n",
    "\n",
    "\n",
    "Answer: Example, y=0 here y is assigning with the 0. 3==5 this is equal to operator we are checking whether 3 is equal to 5."
   ]
  },
  {
   "cell_type": "code",
   "execution_count": null,
   "id": "979758c9",
   "metadata": {},
   "outputs": [],
   "source": [
    "7. Identify the three blocks in this code:\n",
    "spam = 0\n",
    "if spam == 10:\n",
    "    print('eggs') ------> First Block\n",
    "if spam > 5:\n",
    "    print('bacon')------->Second block\n",
    "else:\n",
    "    print('ham')--------->Third block\n",
    "    print('spam')\n",
    "    print('spam')\n",
    "\n",
    "\n",
    "\n"
   ]
  },
  {
   "cell_type": "code",
   "execution_count": null,
   "id": "4615aa15",
   "metadata": {},
   "outputs": [],
   "source": [
    "8.ite code that prints Hello if 1 is stored in spam, prints Howdy if 2 is stored in spam,\n",
    "and prints Greetings! if anything else is stored in spam."
   ]
  },
  {
   "cell_type": "code",
   "execution_count": 2,
   "id": "e897910b",
   "metadata": {},
   "outputs": [
    {
     "name": "stdout",
     "output_type": "stream",
     "text": [
      "7\n",
      "Greetings!\n"
     ]
    }
   ],
   "source": [
    "spam = int(input())\n",
    "if spam==1:\n",
    "    print('hello')\n",
    "if spam==2:\n",
    "    print('Howdy')\n",
    "else:\n",
    "    print(\"Greetings!\")\n",
    "    "
   ]
  },
  {
   "cell_type": "code",
   "execution_count": null,
   "id": "1057e8ea",
   "metadata": {},
   "outputs": [],
   "source": [
    "9.If your programme is stuck in an endless loop, what keys you’ll press?\n",
    "\n",
    "Answer: Ctrl+C"
   ]
  },
  {
   "cell_type": "code",
   "execution_count": null,
   "id": "b6e99c9c",
   "metadata": {},
   "outputs": [],
   "source": [
    "10. How can you tell the difference between break and continue?\n",
    "\n",
    "break statement is used when we want to come out from the running program.\n",
    "continue is used when we want to skip or to jump from the iteration."
   ]
  },
  {
   "cell_type": "code",
   "execution_count": null,
   "id": "c2c3d480",
   "metadata": {},
   "outputs": [],
   "source": [
    "11. In a for loop, what is the difference between range(10), range(0, 10), and range(0, 10, 1)?\n",
    "\n",
    "\n",
    "range(10): gives you values from 0-(10-1)\n",
    "range(0,10): It starts with 0 and ends with (10-1)\n",
    "range(0,10,1): It starts with 0 and ends with (10-1) ,with the increment of 1."
   ]
  },
  {
   "cell_type": "code",
   "execution_count": null,
   "id": "191eef83",
   "metadata": {},
   "outputs": [],
   "source": [
    "12. Write a short program that prints the numbers 1 to 10 using a for loop.\n",
    "Then write an equivalent program that prints the numbers 1 to 10 using a while loop"
   ]
  },
  {
   "cell_type": "code",
   "execution_count": 5,
   "id": "77ee80ac",
   "metadata": {},
   "outputs": [
    {
     "name": "stdout",
     "output_type": "stream",
     "text": [
      "1\n",
      "2\n",
      "3\n",
      "4\n",
      "5\n",
      "6\n",
      "7\n",
      "8\n",
      "9\n",
      "10\n"
     ]
    }
   ],
   "source": [
    "for i in range(1,11):\n",
    "    print(i)"
   ]
  },
  {
   "cell_type": "code",
   "execution_count": 6,
   "id": "3ba017c0",
   "metadata": {},
   "outputs": [
    {
     "name": "stdout",
     "output_type": "stream",
     "text": [
      "1\n",
      "2\n",
      "3\n",
      "4\n",
      "5\n",
      "6\n",
      "7\n",
      "8\n",
      "9\n",
      "10\n"
     ]
    }
   ],
   "source": [
    "n=1\n",
    "while(n<=10):\n",
    "    print(n)\n",
    "    n=n+1"
   ]
  },
  {
   "cell_type": "code",
   "execution_count": null,
   "id": "e575a9dc",
   "metadata": {},
   "outputs": [],
   "source": [
    "13. If you had a function named bacon() inside a module named spam, how would you call it after importing spam?\n",
    "\n",
    "Answer: spam.bacon()"
   ]
  }
 ],
 "metadata": {
  "kernelspec": {
   "display_name": "Python 3 (ipykernel)",
   "language": "python",
   "name": "python3"
  },
  "language_info": {
   "codemirror_mode": {
    "name": "ipython",
    "version": 3
   },
   "file_extension": ".py",
   "mimetype": "text/x-python",
   "name": "python",
   "nbconvert_exporter": "python",
   "pygments_lexer": "ipython3",
   "version": "3.9.7"
  }
 },
 "nbformat": 4,
 "nbformat_minor": 5
}
