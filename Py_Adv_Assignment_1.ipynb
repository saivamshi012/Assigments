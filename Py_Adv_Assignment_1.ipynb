{
  "nbformat": 4,
  "nbformat_minor": 0,
  "metadata": {
    "colab": {
      "name": "Py Adv Assignment_1.ipynb",
      "provenance": []
    },
    "kernelspec": {
      "name": "python3",
      "display_name": "Python 3"
    },
    "language_info": {
      "name": "python"
    }
  },
  "cells": [
    {
      "cell_type": "code",
      "execution_count": null,
      "metadata": {
        "id": "S7KzYOMpYSCR"
      },
      "outputs": [],
      "source": [
        "1. Write a function that takes a list of lists and returns the value of all of the symbols in it, where each symbol adds or takes something from the total score. Symbol values:\n",
        "\n",
        "# = 5\n",
        "O = 3\n",
        "X = 1\n",
        "! = -1\n",
        "!! = -3\n",
        "!!! = -5\n",
        "\n",
        "A list of lists containing 2 #s, a O, and a !!! would equal (0 + 5 + 5 + 3 - 5) 8.\n",
        "\n",
        "If the final score is negative, return 0 (e.g. 3 #s, 3 !!s, 2 !!!s and a X would be (0 + 5 + 5 + 5 - 3 - 3 - 3 - 5 - 5 + 1) -3, so return 0.\n",
        "\n",
        "Examples\n",
        "\n",
        "check_score([\n",
        "  [\"#\", \"!\"],\n",
        "  [\"!!\", \"X\"]\n",
        "]) ➞ 2\n",
        "\n",
        "check_score([\n",
        "  [\"!!!\", \"O\", \"!\"],\n",
        "  [\"X\", \"#\", \"!!!\"],\n",
        "  [\"!!\", \"X\", \"O\"]\n",
        "]) ➞ 0\n",
        "\n"
      ]
    },
    {
      "cell_type": "code",
      "source": [
        "from collections import Counter\n",
        "def check_score(l):\n",
        "  x= sum(l,[])\n",
        "  d=Counter(x)\n",
        "  return d\n",
        "      \n",
        "    \n",
        "check_score([\n",
        "  [\"!!!\", \"O\", \"!\"],\n",
        "  [\"X\", \"#\", \"!!!\"],\n",
        "  [\"!!\", \"X\", \"O\"]\n",
        "])"
      ],
      "metadata": {
        "colab": {
          "base_uri": "https://localhost:8080/"
        },
        "id": "19KiakEY1l9K",
        "outputId": "5cdf3587-c343-492c-f27b-03294222debb"
      },
      "execution_count": null,
      "outputs": [
        {
          "output_type": "execute_result",
          "data": {
            "text/plain": [
              "Counter({'!': 1, '!!': 1, '!!!': 2, '#': 1, 'O': 2, 'X': 2})"
            ]
          },
          "metadata": {},
          "execution_count": 8
        }
      ]
    },
    {
      "cell_type": "code",
      "source": [
        "2. Create a function that takes a variable number of arguments, each argument representing the number of items in a group, and returns the number of permutations (combinations) of items that you could get by taking one item from each group.\n",
        "\n",
        "Examples\n",
        "\n",
        "combinations(2, 3) ➞ 6\n",
        "\n",
        "combinations(3, 7, 4) ➞ 84\n",
        "\n",
        "combinations(2, 3, 4, 5) ➞ 120"
      ],
      "metadata": {
        "id": "5d0Yf7xCBdzK"
      },
      "execution_count": null,
      "outputs": []
    },
    {
      "cell_type": "code",
      "source": [
        "def combinations(*args):\n",
        "  a=list(args)\n",
        "  mul=1\n",
        "  for i in a:\n",
        "    mul=mul*i\n",
        "  return mul\n",
        "\n",
        "combinations(3, 7, 4)"
      ],
      "metadata": {
        "colab": {
          "base_uri": "https://localhost:8080/"
        },
        "id": "p8JEvgmM996C",
        "outputId": "ca99bebe-94a1-4e97-d8f2-4612a2c4f9bc"
      },
      "execution_count": null,
      "outputs": [
        {
          "output_type": "execute_result",
          "data": {
            "text/plain": [
              "84"
            ]
          },
          "metadata": {},
          "execution_count": 17
        }
      ]
    },
    {
      "cell_type": "code",
      "source": [
        "3. Create a function that takes a string as an argument and returns the Morse code equivalent.\n",
        "\n",
        "Examples\n",
        "\n",
        "encode_morse(\"EDABBIT CHALLENGE\") ➞ \". -.. .- -... -... .. -   -.-. .... .- .-.. .-.. . -. --. .\"\n",
        "\n",
        "encode_morse(\"HELP ME !\") ➞ \".... . .-.. .--.   -- .   -.-.--\"\n",
        "\n",
        "This dictionary can be used for coding:\n",
        "\n",
        "char_to_dots = {\n",
        "  'A': '.-', 'B': '-...', 'C': '-.-.', 'D': '-..', 'E': '.', 'F': '..-.',\n",
        "  'G': '--.', 'H': '....', 'I': '..', 'J': '.---', 'K': '-.-', 'L': '.-..',\n",
        "  'M': '--', 'N': '-.', 'O': '---', 'P': '.--.', 'Q': '--.-', 'R': '.-.',\n",
        "  'S': '...', 'T': '-', 'U': '..-', 'V': '...-', 'W': '.--', 'X': '-..-',\n",
        "  'Y': '-.--', 'Z': '--..', ' ': ' ', '0': '-----',\n",
        "  '1': '.----', '2': '..---', '3': '...--', '4': '....-', '5': '.....',\n",
        "  '6': '-....', '7': '--...', '8': '---..', '9': '----.',\n",
        "  '&': '.-...', \"'\": '.----.', '@': '.--.-.', ')': '-.--.-', '(': '-.--.',\n",
        "  ':': '---...', ',': '--..--', '=': '-...-', '!': '-.-.--', '.': '.-.-.-',\n",
        "  '-': '-....-', '+': '.-.-.', '\"': '.-..-.', '?': '..--..', '/': '-..-.'\n",
        "}\n",
        "\n",
        "\n"
      ],
      "metadata": {
        "id": "S3Ew3SIMYedf"
      },
      "execution_count": null,
      "outputs": []
    },
    {
      "cell_type": "code",
      "source": [
        "char_to_dots = {\n",
        "  'A': '.-', 'B': '-...', 'C': '-.-.', 'D': '-..', 'E': '.', 'F': '..-.',\n",
        "  'G': '--.', 'H': '....', 'I': '..', 'J': '.---', 'K': '-.-', 'L': '.-..',\n",
        "  'M': '--', 'N': '-.', 'O': '---', 'P': '.--.', 'Q': '--.-', 'R': '.-.',\n",
        "  'S': '...', 'T': '-', 'U': '..-', 'V': '...-', 'W': '.--', 'X': '-..-',\n",
        "  'Y': '-.--', 'Z': '--..', ' ': ' ', '0': '-----',\n",
        "  '1': '.----', '2': '..---', '3': '...--', '4': '....-', '5': '.....',\n",
        "  '6': '-....', '7': '--...', '8': '---..', '9': '----.',\n",
        "  '&': '.-...', \"'\": '.----.', '@': '.--.-.', ')': '-.--.-', '(': '-.--.',\n",
        "  ':': '---...', ',': '--..--', '=': '-...-', '!': '-.-.--', '.': '.-.-.-',\n",
        "  '-': '-....-', '+': '.-.-.', '\"': '.-..-.', '?': '..--..', '/': '-..-.'\n",
        "}\n",
        "def encode_morse(text):\n",
        "  morse_code=\"\"\n",
        "  for i in text:\n",
        "    morse_code+=char_to_dots[i]\n",
        "  return morse_code\n",
        "print(encode_morse(\"EDABBIT CHALLENGE\"))\n"
      ],
      "metadata": {
        "colab": {
          "base_uri": "https://localhost:8080/"
        },
        "id": "9Bk_vfxcBYpC",
        "outputId": "b9f5493a-8231-4194-a1d4-d062ec630a53"
      },
      "execution_count": null,
      "outputs": [
        {
          "output_type": "stream",
          "name": "stdout",
          "text": [
            ".-...--...-.....- -.-......-.-...-...-.--..\n"
          ]
        }
      ]
    },
    {
      "cell_type": "code",
      "source": [
        "4.  Write a function that takes a number and returns True if it's a prime; False otherwise. The number can be 2^64-1 (2 to the power of 63, not XOR). With the standard technique it would be O(2^64-1), which is much too large for the 10 second time limit.\n",
        "\n",
        "Examples\n",
        "\n",
        "prime(7) ➞ True\n",
        "\n",
        "prime(56963) ➞ True\n",
        "\n",
        "prime(5151512515524) ➞ False\n",
        "\n",
        "\n",
        "\n",
        "\n",
        "\n",
        "\n",
        "\n"
      ],
      "metadata": {
        "id": "4A7kMRR1Yhb-"
      },
      "execution_count": null,
      "outputs": []
    },
    {
      "cell_type": "code",
      "source": [
        "def prime(n):\n",
        "  c=0\n",
        "  if n>0:\n",
        "    for i in range(2,n):\n",
        "      if n%i==0:\n",
        "        c+=1\n",
        "        break     \n",
        "  if c>0:\n",
        "    return False\n",
        "  else:\n",
        "    return True"
      ],
      "metadata": {
        "id": "SAjX4rdGlZgt"
      },
      "execution_count": null,
      "outputs": []
    },
    {
      "cell_type": "code",
      "source": [
        "prime(56963)"
      ],
      "metadata": {
        "colab": {
          "base_uri": "https://localhost:8080/"
        },
        "id": "bvWHY3Som7Cs",
        "outputId": "d2ed0cb3-02b6-4180-98cc-fe0ef5400ccd"
      },
      "execution_count": null,
      "outputs": [
        {
          "output_type": "execute_result",
          "data": {
            "text/plain": [
              "True"
            ]
          },
          "metadata": {},
          "execution_count": 15
        }
      ]
    },
    {
      "cell_type": "code",
      "source": [
        "5.  Create a function that converts a word to a bitstring and then to a boolean list based on the following criteria:\n",
        "\n",
        "    1. Locate the position of the letter in the English alphabet (from 1 to 26).\n",
        "    2. Odd positions will be represented as 1 and 0 otherwise.\n",
        "    3. Convert the represented positions to boolean values, 1 for True and 0 for False.\n",
        "    4. Store the conversions into an array.\n",
        "\n",
        " Examples\n",
        "\n",
        "to_boolean_list(\"deep\") ➞ [False, True, True, False]\n",
        "# deep converts to 0110\n",
        "# d is the 4th alphabet - 0\n",
        "# e is the 5th alphabet - 1\n",
        "# e is the 5th alphabet - 1\n",
        "# p is the 16th alphabet - 0\n",
        "\n",
        "to_boolean_list(\"loves\") ➞ [False, True, False, True, True]\n",
        "\n",
        "to_boolean_list(\"tesh\") ➞ [False, True, True, False]\n",
        " "
      ],
      "metadata": {
        "id": "_c1S2vayYjOM"
      },
      "execution_count": null,
      "outputs": []
    },
    {
      "cell_type": "code",
      "source": [
        "l=[a,b,c,d,e,f,g,h,i,j,k,l,m,n,o,p,q,r,s,t,u,v,w,x,y,z]\n",
        "def to_boolean_list(s):\n",
        "  [  for i in s  l.index(i)%2==0 ]\n"
      ],
      "metadata": {
        "id": "myFOh_Q1ne5r"
      },
      "execution_count": null,
      "outputs": []
    }
  ]
}