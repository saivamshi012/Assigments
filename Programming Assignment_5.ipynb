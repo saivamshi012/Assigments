{
 "cells": [
  {
   "cell_type": "code",
   "execution_count": null,
   "id": "0688054e",
   "metadata": {},
   "outputs": [],
   "source": [
    "1. Write a Python Program to Find LCM?\n"
   ]
  },
  {
   "cell_type": "code",
   "execution_count": 1,
   "id": "ff7fb347",
   "metadata": {},
   "outputs": [
    {
     "name": "stdout",
     "output_type": "stream",
     "text": [
      "enter value7\n",
      "enter value49\n",
      "49\n"
     ]
    }
   ],
   "source": [
    "x =int(input(\"enter value\"))\n",
    "y=int(input(\"enter value\"))\n",
    "\n",
    "if x > y:\n",
    "    greater = x\n",
    "else:\n",
    "    greater = y\n",
    "while(True):\n",
    "    if((greater % x == 0) and (greater % y == 0)):\n",
    "        lcm = greater\n",
    "        break\n",
    "    greater += 1\n",
    "print(lcm)"
   ]
  },
  {
   "cell_type": "code",
   "execution_count": null,
   "id": "0bfaef4b",
   "metadata": {},
   "outputs": [],
   "source": [
    "2. Write a Python Program to Find HCF?\n"
   ]
  },
  {
   "cell_type": "code",
   "execution_count": 2,
   "id": "f291da99",
   "metadata": {},
   "outputs": [
    {
     "name": "stdout",
     "output_type": "stream",
     "text": [
      "enter value4\n",
      "enter value7\n",
      "1\n"
     ]
    }
   ],
   "source": [
    "x =int(input(\"enter value\"))\n",
    "y=int(input(\"enter value\"))\n",
    "\n",
    "if x > y:\n",
    "    smaller = y\n",
    "else:\n",
    "    smaller = x\n",
    "for i in range(1, smaller+1):\n",
    "    if((x % i == 0) and (y % i == 0)):\n",
    "        hcf = i \n",
    "print(hcf)"
   ]
  },
  {
   "cell_type": "code",
   "execution_count": null,
   "id": "d7f454c8",
   "metadata": {},
   "outputs": [],
   "source": [
    "3. Write a Python Program to Convert Decimal to Binary, Octal and Hexadecimal?\n"
   ]
  },
  {
   "cell_type": "code",
   "execution_count": 3,
   "id": "3f6a78e8",
   "metadata": {},
   "outputs": [
    {
     "name": "stdout",
     "output_type": "stream",
     "text": [
      "enter decimal value6\n",
      "The decimal value of 6 is:\n",
      "0b110 in binary.\n",
      "0o6 in octal.\n",
      "0x6 in hexadecimal.\n"
     ]
    }
   ],
   "source": [
    "dec=int(input(\"enter decimal value\"))\n",
    "print(\"The decimal value of\", dec, \"is:\")\n",
    "print(bin(dec), \"in binary.\")\n",
    "print(oct(dec), \"in octal.\")\n",
    "print(hex(dec), \"in hexadecimal.\")"
   ]
  },
  {
   "cell_type": "code",
   "execution_count": null,
   "id": "b9c13f74",
   "metadata": {},
   "outputs": [],
   "source": [
    "4. Write a Python Program To Find ASCII value of a character?\n"
   ]
  },
  {
   "cell_type": "code",
   "execution_count": 4,
   "id": "55229165",
   "metadata": {},
   "outputs": [
    {
     "name": "stdout",
     "output_type": "stream",
     "text": [
      "enter a charactery\n",
      "ASCII value ofyis 121\n"
     ]
    }
   ],
   "source": [
    "val=input(\"enter a character\")\n",
    "print(\"ASCII value of\"+val+\"is\",ord(val))"
   ]
  },
  {
   "cell_type": "code",
   "execution_count": null,
   "id": "b4967af7",
   "metadata": {},
   "outputs": [],
   "source": [
    "5. Write a Python Program to Make a Simple Calculator with 4 basic mathematical operations?"
   ]
  },
  {
   "cell_type": "code",
   "execution_count": 6,
   "id": "befd10c2",
   "metadata": {},
   "outputs": [
    {
     "name": "stdout",
     "output_type": "stream",
     "text": [
      "Select operation.\n",
      "1.Add\n",
      "2.Subtract\n",
      "3.Multiply\n",
      "4.Divide\n",
      "Choose 1/2/3/41\n",
      "Enter first number: 6\n",
      "Enter second number: 7\n",
      "6.0 + 7.0 = 13.0\n",
      "Let's do next calculation? (yes/no): no\n"
     ]
    }
   ],
   "source": [
    "def add(x, y):\n",
    "    return x + y\n",
    "\n",
    "def subtract(x, y):\n",
    "    return x - y\n",
    "\n",
    "def multiply(x, y):\n",
    "    return x * y\n",
    "\n",
    "def divide(x, y):\n",
    "    return x / y\n",
    "\n",
    "print(\"Select operation.\")\n",
    "print(\"1.Add\")\n",
    "print(\"2.Subtract\")\n",
    "print(\"3.Multiply\")\n",
    "print(\"4.Divide\")\n",
    "\n",
    "while True:\n",
    "    choice = input(\"Choose 1/2/3/4\")\n",
    "    if choice in ('1', '2', '3', '4'):\n",
    "        num1 = float(input(\"Enter first number: \"))\n",
    "        num2 = float(input(\"Enter second number: \"))\n",
    "\n",
    "        if choice == '1':\n",
    "            print(num1, \"+\", num2, \"=\", add(num1, num2))\n",
    "\n",
    "        elif choice == '2':\n",
    "            print(num1, \"-\", num2, \"=\", subtract(num1, num2))\n",
    "\n",
    "        elif choice == '3':\n",
    "            print(num1, \"*\", num2, \"=\", multiply(num1, num2))\n",
    "\n",
    "        elif choice == '4':\n",
    "            print(num1, \"/\", num2, \"=\", divide(num1, num2))\n",
    "        next_calculation = input(\"Let's do next calculation? (yes/no): \")\n",
    "        if next_calculation == \"no\":\n",
    "            break\n",
    "    \n",
    "    else:\n",
    "        print(\"Invalid Input\")"
   ]
  },
  {
   "cell_type": "code",
   "execution_count": null,
   "id": "d6d3986c",
   "metadata": {},
   "outputs": [],
   "source": []
  }
 ],
 "metadata": {
  "kernelspec": {
   "display_name": "Python 3 (ipykernel)",
   "language": "python",
   "name": "python3"
  },
  "language_info": {
   "codemirror_mode": {
    "name": "ipython",
    "version": 3
   },
   "file_extension": ".py",
   "mimetype": "text/x-python",
   "name": "python",
   "nbconvert_exporter": "python",
   "pygments_lexer": "ipython3",
   "version": "3.9.7"
  }
 },
 "nbformat": 4,
 "nbformat_minor": 5
}
